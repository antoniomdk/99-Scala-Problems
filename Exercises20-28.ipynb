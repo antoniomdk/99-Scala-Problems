{
 "cells": [
  {
   "cell_type": "markdown",
   "metadata": {},
   "source": [
    "# 99 Scala Exercises (20 to 28)"
   ]
  },
  {
   "cell_type": "markdown",
   "metadata": {},
   "source": [
    "### 20\\. Remove the Kth element from a list."
   ]
  },
  {
   "cell_type": "code",
   "execution_count": 4,
   "metadata": {},
   "outputs": [
    {
     "data": {
      "text/plain": [
       "defined \u001b[32mfunction\u001b[39m \u001b[36mremoveAt\u001b[39m\n",
       "\u001b[36mres3_1\u001b[39m: \u001b[32mOption\u001b[39m[(\u001b[32mList\u001b[39m[\u001b[32mSymbol\u001b[39m], \u001b[32mSymbol\u001b[39m)] = \u001b[33mSome\u001b[39m((\u001b[33mList\u001b[39m(\u001b[32m'a\u001b[39m, \u001b[32m'c\u001b[39m, \u001b[32m'd\u001b[39m), \u001b[32m'b\u001b[39m))"
      ]
     },
     "execution_count": 4,
     "metadata": {},
     "output_type": "execute_result"
    }
   ],
   "source": [
    "def removeAt[A](n: Int, l: List[A]): Option[(List[A], A)] = l splitAt(n) match {\n",
    "    case (xs, y::ys) => Some((xs ++ ys) -> y)\n",
    "    case _ => None\n",
    "}\n",
    "removeAt(1, List('a, 'b, 'c, 'd))"
   ]
  },
  {
   "cell_type": "markdown",
   "metadata": {},
   "source": [
    "###  21\\. Insert an element at a given position into a list."
   ]
  },
  {
   "cell_type": "code",
   "execution_count": 6,
   "metadata": {},
   "outputs": [
    {
     "data": {
      "text/plain": [
       "defined \u001b[32mfunction\u001b[39m \u001b[36minsertAt\u001b[39m\n",
       "\u001b[36mres5_1\u001b[39m: \u001b[32mOption\u001b[39m[\u001b[32mList\u001b[39m[\u001b[32mSymbol\u001b[39m]] = \u001b[33mSome\u001b[39m(\u001b[33mList\u001b[39m(\u001b[32m'a\u001b[39m, \u001b[32m'new\u001b[39m, \u001b[32m'b\u001b[39m, \u001b[32m'c\u001b[39m, \u001b[32m'd\u001b[39m))"
      ]
     },
     "execution_count": 6,
     "metadata": {},
     "output_type": "execute_result"
    }
   ],
   "source": [
    "def insertAt[A](e: A, n: Int, l: List[A]): Option[List[A]] = l splitAt(n) match {\n",
    "    case (xs, ys) => Some(xs ::: e :: ys)\n",
    "    case _ => None\n",
    "}\n",
    "insertAt('new, 1, List('a, 'b, 'c, 'd))"
   ]
  },
  {
   "cell_type": "markdown",
   "metadata": {},
   "source": [
    "### 22\\. Create a list containing all integers within a given range."
   ]
  },
  {
   "cell_type": "code",
   "execution_count": 13,
   "metadata": {},
   "outputs": [
    {
     "data": {
      "text/plain": [
       "defined \u001b[32mfunction\u001b[39m \u001b[36mrange\u001b[39m\n",
       "defined \u001b[32mfunction\u001b[39m \u001b[36mrangeTailRec\u001b[39m\n",
       "\u001b[36mres12_2\u001b[39m: \u001b[32mList\u001b[39m[\u001b[32mInt\u001b[39m] = \u001b[33mList\u001b[39m(\u001b[32m4\u001b[39m, \u001b[32m5\u001b[39m, \u001b[32m6\u001b[39m, \u001b[32m7\u001b[39m, \u001b[32m8\u001b[39m, \u001b[32m9\u001b[39m)\n",
       "\u001b[36mres12_3\u001b[39m: \u001b[32mList\u001b[39m[\u001b[32mInt\u001b[39m] = \u001b[33mList\u001b[39m(\u001b[32m4\u001b[39m, \u001b[32m5\u001b[39m, \u001b[32m6\u001b[39m, \u001b[32m7\u001b[39m, \u001b[32m8\u001b[39m, \u001b[32m9\u001b[39m)\n",
       "\u001b[36mres12_4\u001b[39m: \u001b[32mconcurrent\u001b[39m.\u001b[32mduration\u001b[39m.\u001b[32mFiniteDuration\u001b[39m = 208199 nanoseconds\n",
       "\u001b[36mres12_5\u001b[39m: \u001b[32mconcurrent\u001b[39m.\u001b[32mduration\u001b[39m.\u001b[32mFiniteDuration\u001b[39m = 2160717 nanoseconds"
      ]
     },
     "execution_count": 13,
     "metadata": {},
     "output_type": "execute_result"
    }
   ],
   "source": [
    "// Built-in\n",
    "def range(x: Int, y: Int): List[Int] = (x to y).toList\n",
    "\n",
    "// Tail recursive\n",
    "def rangeTailRec(from: Int, to: Int): List[Int] = {\n",
    "    @annotation.tailrec\n",
    "    def inner(i: Int, accum: List[Int]): List[Int] =\n",
    "        if (i <= to) inner(i+1, i +: accum) else accum.reverse \n",
    "    inner(from, List.empty)\n",
    "}\n",
    "\n",
    "range(4, 9)\n",
    "rangeTailRec(4, 9)\n",
    "\n",
    "time(range(1, 10000))._2\n",
    "time(rangeTailRec(1, 10000))._2"
   ]
  },
  {
   "cell_type": "markdown",
   "metadata": {},
   "source": [
    "### 23\\. Extract a given number of randomly selected elements from a list."
   ]
  },
  {
   "cell_type": "code",
   "execution_count": 35,
   "metadata": {},
   "outputs": [
    {
     "data": {
      "text/plain": [
       "defined \u001b[32mfunction\u001b[39m \u001b[36mrandomSelect\u001b[39m\n",
       "\u001b[36mres34_1\u001b[39m: \u001b[32mList\u001b[39m[\u001b[32mSymbol\u001b[39m] = \u001b[33mList\u001b[39m(\u001b[32m'a\u001b[39m, \u001b[32m'd\u001b[39m, \u001b[32m'c\u001b[39m)"
      ]
     },
     "execution_count": 35,
     "metadata": {},
     "output_type": "execute_result"
    }
   ],
   "source": [
    "// Tail recursive\n",
    "def randomSelect[A](n: Int, l: List[A]): List[A] = {\n",
    "    @annotation.tailrec\n",
    "    def inner(i: Int, innerList: List[A], accum: List[A]): List[A] = innerList match {\n",
    "        case Nil | _ if i >= n => accum\n",
    "        case xs => {\n",
    "            val index = scala.util.Random.nextInt(xs.length)\n",
    "            val (la, a) = removeAt(index, xs).get\n",
    "            inner(i+1, la, a +: accum)\n",
    "        }\n",
    "    }\n",
    "    inner(0, l, List.empty)\n",
    "}\n",
    "\n",
    "randomSelect(3, List('a, 'b, 'c, 'd, 'f, 'g, 'h))"
   ]
  },
  {
   "cell_type": "markdown",
   "metadata": {},
   "source": [
    "### 24\\. Lotto: Draw N different random numbers from the set 1..M."
   ]
  },
  {
   "cell_type": "code",
   "execution_count": 38,
   "metadata": {},
   "outputs": [
    {
     "data": {
      "text/plain": [
       "defined \u001b[32mfunction\u001b[39m \u001b[36mlotto\u001b[39m\n",
       "\u001b[36mres37_1\u001b[39m: \u001b[32mList\u001b[39m[\u001b[32mInt\u001b[39m] = \u001b[33mList\u001b[39m(\u001b[32m42\u001b[39m, \u001b[32m48\u001b[39m, \u001b[32m5\u001b[39m, \u001b[32m6\u001b[39m, \u001b[32m36\u001b[39m, \u001b[32m47\u001b[39m)"
      ]
     },
     "execution_count": 38,
     "metadata": {},
     "output_type": "execute_result"
    }
   ],
   "source": [
    "def lotto(n: Int, m: Int) = randomSelect(n, List.range(1, m))\n",
    "lotto(6, 49)"
   ]
  },
  {
   "cell_type": "markdown",
   "metadata": {},
   "source": [
    "### 25\\. Generate a random permutation of the elements of a list."
   ]
  },
  {
   "cell_type": "code",
   "execution_count": 37,
   "metadata": {},
   "outputs": [
    {
     "data": {
      "text/plain": [
       "defined \u001b[32mfunction\u001b[39m \u001b[36mrandomPermute\u001b[39m\n",
       "\u001b[36mres36_1\u001b[39m: \u001b[32mList\u001b[39m[\u001b[32mSymbol\u001b[39m] = \u001b[33mList\u001b[39m(\u001b[32m'a\u001b[39m, \u001b[32m'f\u001b[39m, \u001b[32m'd\u001b[39m, \u001b[32m'c\u001b[39m, \u001b[32m'b\u001b[39m, \u001b[32m'e\u001b[39m)"
      ]
     },
     "execution_count": 37,
     "metadata": {},
     "output_type": "execute_result"
    }
   ],
   "source": [
    "def randomPermute[A](l: List[A]) = randomSelect(l.length, l)\n",
    "randomPermute(List('a, 'b, 'c, 'd, 'e, 'f))"
   ]
  },
  {
   "cell_type": "markdown",
   "metadata": {},
   "source": [
    "### 26\\. Generate the combinations of K distinct objects chosen from the N elements of a list.\n",
    "In how many ways can a committee of 3 be chosen from a group of 12 people? We all know that there are C(12,3) = 220 possibilities (C(N,K) denotes the well-known binomial coefficient). For pure mathematicians, this result may be great. But we want to really generate all the possibilities."
   ]
  },
  {
   "cell_type": "code",
   "execution_count": 1,
   "metadata": {},
   "outputs": [
    {
     "data": {
      "text/plain": [
       "defined \u001b[32mfunction\u001b[39m \u001b[36mcombinations\u001b[39m\n",
       "defined \u001b[32mfunction\u001b[39m \u001b[36mcombinationsHaskell\u001b[39m\n",
       "\u001b[36mres0_2\u001b[39m: \u001b[32mList\u001b[39m[\u001b[32mList\u001b[39m[\u001b[32mSymbol\u001b[39m]] = \u001b[33mList\u001b[39m(\n",
       "  \u001b[33mList\u001b[39m(\u001b[32m'a\u001b[39m, \u001b[32m'b\u001b[39m, \u001b[32m'c\u001b[39m),\n",
       "  \u001b[33mList\u001b[39m(\u001b[32m'a\u001b[39m, \u001b[32m'b\u001b[39m, \u001b[32m'd\u001b[39m),\n",
       "  \u001b[33mList\u001b[39m(\u001b[32m'a\u001b[39m, \u001b[32m'b\u001b[39m, \u001b[32m'e\u001b[39m),\n",
       "  \u001b[33mList\u001b[39m(\u001b[32m'a\u001b[39m, \u001b[32m'b\u001b[39m, \u001b[32m'f\u001b[39m),\n",
       "  \u001b[33mList\u001b[39m(\u001b[32m'a\u001b[39m, \u001b[32m'c\u001b[39m, \u001b[32m'd\u001b[39m),\n",
       "  \u001b[33mList\u001b[39m(\u001b[32m'a\u001b[39m, \u001b[32m'c\u001b[39m, \u001b[32m'e\u001b[39m),\n",
       "  \u001b[33mList\u001b[39m(\u001b[32m'a\u001b[39m, \u001b[32m'c\u001b[39m, \u001b[32m'f\u001b[39m),\n",
       "  \u001b[33mList\u001b[39m(\u001b[32m'a\u001b[39m, \u001b[32m'd\u001b[39m, \u001b[32m'e\u001b[39m),\n",
       "  \u001b[33mList\u001b[39m(\u001b[32m'a\u001b[39m, \u001b[32m'd\u001b[39m, \u001b[32m'f\u001b[39m),\n",
       "  \u001b[33mList\u001b[39m(\u001b[32m'a\u001b[39m, \u001b[32m'e\u001b[39m, \u001b[32m'f\u001b[39m),\n",
       "  \u001b[33mList\u001b[39m(\u001b[32m'b\u001b[39m, \u001b[32m'c\u001b[39m, \u001b[32m'd\u001b[39m),\n",
       "\u001b[33m...\u001b[39m\n",
       "\u001b[36mres0_3\u001b[39m: \u001b[32mList\u001b[39m[\u001b[32mList\u001b[39m[\u001b[32mSymbol\u001b[39m]] = \u001b[33mList\u001b[39m(\n",
       "  \u001b[33mList\u001b[39m(\u001b[32m'a\u001b[39m, \u001b[32m'b\u001b[39m, \u001b[32m'c\u001b[39m),\n",
       "  \u001b[33mList\u001b[39m(\u001b[32m'a\u001b[39m, \u001b[32m'b\u001b[39m, \u001b[32m'd\u001b[39m),\n",
       "  \u001b[33mList\u001b[39m(\u001b[32m'a\u001b[39m, \u001b[32m'b\u001b[39m, \u001b[32m'e\u001b[39m),\n",
       "  \u001b[33mList\u001b[39m(\u001b[32m'a\u001b[39m, \u001b[32m'b\u001b[39m, \u001b[32m'f\u001b[39m),\n",
       "  \u001b[33mList\u001b[39m(\u001b[32m'a\u001b[39m, \u001b[32m'c\u001b[39m, \u001b[32m'd\u001b[39m),\n",
       "  \u001b[33mList\u001b[39m(\u001b[32m'a\u001b[39m, \u001b[32m'c\u001b[39m, \u001b[32m'e\u001b[39m),\n",
       "  \u001b[33mList\u001b[39m(\u001b[32m'a\u001b[39m, \u001b[32m'c\u001b[39m, \u001b[32m'f\u001b[39m),\n",
       "  \u001b[33mList\u001b[39m(\u001b[32m'a\u001b[39m, \u001b[32m'd\u001b[39m, \u001b[32m'e\u001b[39m),\n",
       "  \u001b[33mList\u001b[39m(\u001b[32m'a\u001b[39m, \u001b[32m'd\u001b[39m, \u001b[32m'f\u001b[39m),\n",
       "  \u001b[33mList\u001b[39m(\u001b[32m'a\u001b[39m, \u001b[32m'e\u001b[39m, \u001b[32m'f\u001b[39m),\n",
       "  \u001b[33mList\u001b[39m(\u001b[32m'b\u001b[39m, \u001b[32m'c\u001b[39m, \u001b[32m'd\u001b[39m),\n",
       "\u001b[33m...\u001b[39m\n",
       "\u001b[36mres0_4\u001b[39m: \u001b[32mconcurrent\u001b[39m.\u001b[32mduration\u001b[39m.\u001b[32mFiniteDuration\u001b[39m = 948238441 nanoseconds\n",
       "\u001b[36mres0_5\u001b[39m: \u001b[32mconcurrent\u001b[39m.\u001b[32mduration\u001b[39m.\u001b[32mFiniteDuration\u001b[39m = 266373003 nanoseconds"
      ]
     },
     "execution_count": 1,
     "metadata": {},
     "output_type": "execute_result"
    }
   ],
   "source": [
    "// Built-in\n",
    "def combinations[A](k: Int, la: List[A]): List[List[A]] = la.combinations(k).toList\n",
    "\n",
    "// Ported from Haskell Solution\n",
    "def combinationsHaskell[A](k: Int, la: List[A]): List[List[A]] = (k, la) match {\n",
    "    case (0, _)     => List(Nil)\n",
    "    case (_, Nil)   => Nil \n",
    "    case (_, x::xs) => (combinations(k-1, xs) map (x :: _)) ::: combinations(k, xs) \n",
    "}\n",
    "\n",
    "combinations(3, List('a, 'b, 'c, 'd, 'e, 'f))\n",
    "combinationsHaskell(3, List('a, 'b, 'c, 'd, 'e, 'f))\n",
    "\n",
    "time(combinations(3, (1 to 100).toList))._2\n",
    "time(combinationsHaskell(3, (1 to 100).toList))._2"
   ]
  },
  {
   "cell_type": "markdown",
   "metadata": {},
   "source": [
    "### 27\\. Group the elements of a set into disjoint subsets.\n",
    "a) In how many ways can a group of 9 people work in 3 disjoint subgroups of 2, 3 and 4 persons? Write a function that generates all the possibilities."
   ]
  },
  {
   "cell_type": "code",
   "execution_count": 17,
   "metadata": {},
   "outputs": [
    {
     "data": {
      "text/plain": [
       "defined \u001b[32mtype\u001b[39m \u001b[36mGroups\u001b[39m\n",
       "defined \u001b[32mfunction\u001b[39m \u001b[36mgroup3\u001b[39m\n",
       "defined \u001b[32mfunction\u001b[39m \u001b[36mgroup\u001b[39m\n",
       "\u001b[36ml1\u001b[39m: \u001b[32mwrapper\u001b[39m.\u001b[32mwrapper\u001b[39m.\u001b[32mGroups\u001b[39m[\u001b[32mString\u001b[39m] = List(List(List(Aldo, Beat), List(Carla, David, Evi), List(Flip, Gary, Hugo, Ida)), List(List(Aldo, Beat), List(Carla, David, Flip), List(Evi, Gary, Hugo, Ida)), List(List(Aldo, Beat), List(Carla, David, Gary), List(Evi, Flip, Hugo, Ida)), List(List(Aldo, Beat), List(Carla, David, Hugo), List(Evi, Flip, Gary, Ida)), List(List(Aldo, Beat), List(Carla, David, Ida), List(Evi, Flip, Gary, Hugo)), List(List(Aldo, Beat), List(Carla, Evi, Flip), List(David, Gary, Hugo, Ida)), List(List(Aldo, Beat), List(Carla, Evi, Gary), List(David, Flip, Hugo, Ida)), List(List(Aldo, Beat), List(Carla, Evi, Hugo), List(David, Flip, Gary, Ida)), List(List(Aldo, Beat), List(Carla, Evi, Ida), List(David, Flip, Gary, Hugo)), List(List(Aldo, Beat), List(Carla, Flip, Gary), List(David, Evi, Hugo, Ida)), List(List(Aldo, Beat), List(Carla, Flip, Hugo), List(David, Evi, Gary, Ida)), List(List(Aldo, Beat), List(Carla, Flip, Ida), List(David, Evi, Gary, Hugo)), List(List(Aldo, Bea\u001b[33m...\u001b[39m\n",
       "\u001b[36ml2\u001b[39m: \u001b[32mwrapper\u001b[39m.\u001b[32mwrapper\u001b[39m.\u001b[32mGroups\u001b[39m[\u001b[32mString\u001b[39m] = List(List(List(Aldo, Beat), List(Carla, David, Evi), List(Flip, Gary, Hugo, Ida)), List(List(Aldo, Beat), List(Carla, David, Flip), List(Evi, Gary, Hugo, Ida)), List(List(Aldo, Beat), List(Carla, David, Gary), List(Evi, Flip, Hugo, Ida)), List(List(Aldo, Beat), List(Carla, David, Hugo), List(Evi, Flip, Gary, Ida)), List(List(Aldo, Beat), List(Carla, David, Ida), List(Evi, Flip, Gary, Hugo)), List(List(Aldo, Beat), List(Carla, Evi, Flip), List(David, Gary, Hugo, Ida)), List(List(Aldo, Beat), List(Carla, Evi, Gary), List(David, Flip, Hugo, Ida)), List(List(Aldo, Beat), List(Carla, Evi, Hugo), List(David, Flip, Gary, Ida)), List(List(Aldo, Beat), List(Carla, Evi, Ida), List(David, Flip, Gary, Hugo)), List(List(Aldo, Beat), List(Carla, Flip, Gary), List(David, Evi, Hugo, Ida)), List(List(Aldo, Beat), List(Carla, Flip, Hugo), List(David, Evi, Gary, Ida)), List(List(Aldo, Beat), List(Carla, Flip, Ida), List(David, Evi, Gary, Hugo)), List(List(Aldo, Bea\u001b[33m...\u001b[39m\n",
       "\u001b[36mres16_5\u001b[39m: \u001b[32mBoolean\u001b[39m = \u001b[32mtrue\u001b[39m"
      ]
     },
     "execution_count": 17,
     "metadata": {},
     "output_type": "execute_result"
    }
   ],
   "source": [
    "type Groups[A] = List[List[List[A]]] \n",
    "\n",
    "def group3[A](la: List[A]): Groups[A] =  for {\n",
    "    g2 <- combinations(2, la)\n",
    "    g3 <- combinations(3, la diff g2)\n",
    "    g4 = la diff(g2 ++ g3)\n",
    "} yield List(g2, g3, g4)\n",
    "\n",
    "def group[A](lk: List[Int], la: List[A]): Groups[A] = lk match {\n",
    "    case x::Nil => List(combinations(x, la))\n",
    "    case x::xs  => combinations(x, la) flatMap { c => group(xs, la diff c).map(c::_) }\n",
    "    case _ => List(Nil)\n",
    "}\n",
    "\n",
    "val l1 = group3(List(\"Aldo\", \"Beat\", \"Carla\", \"David\", \"Evi\", \"Flip\", \"Gary\", \"Hugo\", \"Ida\"))\n",
    "val l2 = group(List(2, 3, 4), List(\"Aldo\", \"Beat\", \"Carla\", \"David\", \"Evi\", \"Flip\", \"Gary\", \"Hugo\", \"Ida\"))\n",
    "l1 == l2"
   ]
  },
  {
   "cell_type": "markdown",
   "metadata": {},
   "source": [
    "### 28\\. Sorting a list of lists according to length of sublists.\n",
    "a) We suppose that a list contains elements that are lists themselves. The objective is to sort the elements of the list according to their length. E.g. short lists first, longer lists later, or vice versa."
   ]
  },
  {
   "cell_type": "code",
   "execution_count": 57,
   "metadata": {},
   "outputs": [
    {
     "data": {
      "text/plain": [
       "defined \u001b[32mfunction\u001b[39m \u001b[36mlsort\u001b[39m\n",
       "\u001b[36mres56_1\u001b[39m: \u001b[32mList\u001b[39m[\u001b[32mList\u001b[39m[\u001b[32mSymbol\u001b[39m]] = \u001b[33mList\u001b[39m(\n",
       "  \u001b[33mList\u001b[39m(\u001b[32m'i\u001b[39m, \u001b[32m'j\u001b[39m, \u001b[32m'k\u001b[39m, \u001b[32m'l\u001b[39m),\n",
       "  \u001b[33mList\u001b[39m(\u001b[32m'a\u001b[39m, \u001b[32m'b\u001b[39m, \u001b[32m'c\u001b[39m),\n",
       "  \u001b[33mList\u001b[39m(\u001b[32m'f\u001b[39m, \u001b[32m'g\u001b[39m, \u001b[32m'h\u001b[39m),\n",
       "  \u001b[33mList\u001b[39m(\u001b[32m'd\u001b[39m, \u001b[32m'e\u001b[39m),\n",
       "  \u001b[33mList\u001b[39m(\u001b[32m'd\u001b[39m, \u001b[32m'e\u001b[39m),\n",
       "  \u001b[33mList\u001b[39m(\u001b[32m'm\u001b[39m, \u001b[32m'n\u001b[39m),\n",
       "  \u001b[33mList\u001b[39m(\u001b[32m'o\u001b[39m)\n",
       ")"
      ]
     },
     "execution_count": 57,
     "metadata": {},
     "output_type": "execute_result"
    }
   ],
   "source": [
    "// Using built-in functions\n",
    "def lsort[A](lla: List[List[A]]): List[List[A]] =\n",
    "    lla sortWith(_.length > _.length) \n",
    "\n",
    "lsort(List(List('a, 'b, 'c),\n",
    "           List('d, 'e),\n",
    "           List('f, 'g, 'h),\n",
    "           List('d, 'e),\n",
    "           List('i, 'j, 'k, 'l),\n",
    "           List('m, 'n),\n",
    "           List('o)))"
   ]
  },
  {
   "cell_type": "markdown",
   "metadata": {},
   "source": [
    "b) Again, we suppose that a list contains elements that are lists themselves. But this time the objective is to sort the elements according to their length frequency; i.e. in the default, sorting is done ascendingly, lists with rare lengths are placed, others with a more frequent length come later."
   ]
  },
  {
   "cell_type": "code",
   "execution_count": 56,
   "metadata": {},
   "outputs": [
    {
     "data": {
      "text/plain": [
       "defined \u001b[32mfunction\u001b[39m \u001b[36mlsortFreq\u001b[39m\n",
       "defined \u001b[32mfunction\u001b[39m \u001b[36mlsortFreqLazy\u001b[39m\n",
       "\u001b[36ml\u001b[39m: \u001b[32mList\u001b[39m[\u001b[32mList\u001b[39m[\u001b[32mSymbol\u001b[39m]] = \u001b[33mList\u001b[39m(\n",
       "  \u001b[33mList\u001b[39m(\u001b[32m'a\u001b[39m, \u001b[32m'b\u001b[39m, \u001b[32m'c\u001b[39m),\n",
       "  \u001b[33mList\u001b[39m(\u001b[32m'd\u001b[39m, \u001b[32m'e\u001b[39m),\n",
       "  \u001b[33mList\u001b[39m(\u001b[32m'f\u001b[39m, \u001b[32m'g\u001b[39m, \u001b[32m'h\u001b[39m),\n",
       "  \u001b[33mList\u001b[39m(\u001b[32m'd\u001b[39m, \u001b[32m'e\u001b[39m),\n",
       "  \u001b[33mList\u001b[39m(\u001b[32m'i\u001b[39m, \u001b[32m'j\u001b[39m, \u001b[32m'k\u001b[39m, \u001b[32m'l\u001b[39m),\n",
       "  \u001b[33mList\u001b[39m(\u001b[32m'm\u001b[39m, \u001b[32m'n\u001b[39m),\n",
       "  \u001b[33mList\u001b[39m(\u001b[32m'o\u001b[39m)\n",
       ")\n",
       "\u001b[36mres55_3\u001b[39m: \u001b[32mList\u001b[39m[\u001b[32mList\u001b[39m[\u001b[32mSymbol\u001b[39m]] = \u001b[33mList\u001b[39m(\n",
       "  \u001b[33mList\u001b[39m(\u001b[32m'i\u001b[39m, \u001b[32m'j\u001b[39m, \u001b[32m'k\u001b[39m, \u001b[32m'l\u001b[39m),\n",
       "  \u001b[33mList\u001b[39m(\u001b[32m'o\u001b[39m),\n",
       "  \u001b[33mList\u001b[39m(\u001b[32m'a\u001b[39m, \u001b[32m'b\u001b[39m, \u001b[32m'c\u001b[39m),\n",
       "  \u001b[33mList\u001b[39m(\u001b[32m'f\u001b[39m, \u001b[32m'g\u001b[39m, \u001b[32m'h\u001b[39m),\n",
       "  \u001b[33mList\u001b[39m(\u001b[32m'd\u001b[39m, \u001b[32m'e\u001b[39m),\n",
       "  \u001b[33mList\u001b[39m(\u001b[32m'd\u001b[39m, \u001b[32m'e\u001b[39m),\n",
       "  \u001b[33mList\u001b[39m(\u001b[32m'm\u001b[39m, \u001b[32m'n\u001b[39m)\n",
       ")\n",
       "\u001b[36mres55_4\u001b[39m: \u001b[32mList\u001b[39m[\u001b[32mList\u001b[39m[\u001b[32mSymbol\u001b[39m]] = \u001b[33mList\u001b[39m(\n",
       "  \u001b[33mList\u001b[39m(\u001b[32m'i\u001b[39m, \u001b[32m'j\u001b[39m, \u001b[32m'k\u001b[39m, \u001b[32m'l\u001b[39m),\n",
       "  \u001b[33mList\u001b[39m(\u001b[32m'o\u001b[39m),\n",
       "  \u001b[33mList\u001b[39m(\u001b[32m'a\u001b[39m, \u001b[32m'b\u001b[39m, \u001b[32m'c\u001b[39m),\n",
       "  \u001b[33mList\u001b[39m(\u001b[32m'f\u001b[39m, \u001b[32m'g\u001b[39m, \u001b[32m'h\u001b[39m),\n",
       "  \u001b[33mList\u001b[39m(\u001b[32m'd\u001b[39m, \u001b[32m'e\u001b[39m),\n",
       "  \u001b[33mList\u001b[39m(\u001b[32m'd\u001b[39m, \u001b[32m'e\u001b[39m),\n",
       "  \u001b[33mList\u001b[39m(\u001b[32m'm\u001b[39m, \u001b[32m'n\u001b[39m)\n",
       ")\n",
       "\u001b[36mres55_5\u001b[39m: \u001b[32mconcurrent\u001b[39m.\u001b[32mduration\u001b[39m.\u001b[32mFiniteDuration\u001b[39m = 71724 nanoseconds\n",
       "\u001b[36mres55_6\u001b[39m: \u001b[32mconcurrent\u001b[39m.\u001b[32mduration\u001b[39m.\u001b[32mFiniteDuration\u001b[39m = 181695 nanoseconds"
      ]
     },
     "execution_count": 56,
     "metadata": {},
     "output_type": "execute_result"
    }
   ],
   "source": [
    "def lsortFreq[A](lla: List[List[A]]): List[List[A]] = {\n",
    "    val zippedWithLength = lla.map (l => l -> l.length)\n",
    "    val zippedWithFreq = zippedWithLength map {\n",
    "        case (xs, len) => xs -> zippedWithLength.count { _._2 == len}\n",
    "    }\n",
    "   zippedWithFreq.sortBy(_._2).map(_._1)\n",
    "}\n",
    "\n",
    "// Uses List.view\n",
    "def lsortFreqLazy[A](lla: List[List[A]]): List[List[A]] = {\n",
    "    val zippedWithLength = lla.view.map (l => l -> l.length)\n",
    "    val zippedWithFreq = zippedWithLength map {\n",
    "        case (xs, len) => xs -> zippedWithLength.count { _._2 == len}\n",
    "    }\n",
    "   zippedWithFreq.sortBy(_._2).map(_._1).force.toList\n",
    "}\n",
    "\n",
    "val l = List(List('a, 'b, 'c),\n",
    "         List('d, 'e),\n",
    "         List('f, 'g, 'h),\n",
    "         List('d, 'e),\n",
    "         List('i, 'j, 'k, 'l),\n",
    "         List('m, 'n),\n",
    "         List('o))\n",
    "\n",
    "lsortFreq(l)\n",
    "lsortFreqLazy(l)\n",
    "\n",
    "time(lsortFreq(l))._2\n",
    "time(lsortFreqLazy(l))._2"
   ]
  },
  {
   "cell_type": "code",
   "execution_count": null,
   "metadata": {},
   "outputs": [],
   "source": []
  }
 ],
 "metadata": {
  "kernelspec": {
   "display_name": "Scala",
   "language": "scala",
   "name": "scala"
  },
  "language_info": {
   "codemirror_mode": "text/x-scala",
   "file_extension": ".scala",
   "mimetype": "text/x-scala",
   "name": "scala211",
   "nbconvert_exporter": "script",
   "pygments_lexer": "scala",
   "version": "2.11.11"
  }
 },
 "nbformat": 4,
 "nbformat_minor": 2
}
