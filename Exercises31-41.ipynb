{
 "cells": [
  {
   "cell_type": "markdown",
   "metadata": {},
   "source": [
    "# 99 Scala Exercises (31 to 41)"
   ]
  },
  {
   "cell_type": "markdown",
   "metadata": {},
   "source": [
    "### 31\\. Determine whether a given integer number is prime."
   ]
  },
  {
   "cell_type": "code",
   "execution_count": 36,
   "metadata": {},
   "outputs": [
    {
     "data": {
      "text/plain": [
       "\u001b[32mimport \u001b[39m\u001b[36mscala.math.sqrt\n",
       "\n",
       "\u001b[39m\n",
       "defined \u001b[32mclass\u001b[39m \u001b[36mIntOps\u001b[39m\n",
       "\u001b[36mres35_2\u001b[39m: \u001b[32mBoolean\u001b[39m = \u001b[32mtrue\u001b[39m\n",
       "\u001b[36mres35_3\u001b[39m: \u001b[32mBoolean\u001b[39m = \u001b[32mfalse\u001b[39m\n",
       "\u001b[36mres35_4\u001b[39m: \u001b[32mBoolean\u001b[39m = \u001b[32mtrue\u001b[39m\n",
       "\u001b[36mres35_5\u001b[39m: \u001b[32mBoolean\u001b[39m = \u001b[32mtrue\u001b[39m\n",
       "\u001b[36mres35_6\u001b[39m: (\u001b[32mBoolean\u001b[39m, \u001b[32mconcurrent\u001b[39m.\u001b[32mduration\u001b[39m.\u001b[32mFiniteDuration\u001b[39m) = (\u001b[32mfalse\u001b[39m, 27299 nanoseconds)\n",
       "\u001b[36mres35_7\u001b[39m: (\u001b[32mBoolean\u001b[39m, \u001b[32mconcurrent\u001b[39m.\u001b[32mduration\u001b[39m.\u001b[32mFiniteDuration\u001b[39m) = (\u001b[32mfalse\u001b[39m, 49209 nanoseconds)"
      ]
     },
     "execution_count": 36,
     "metadata": {},
     "output_type": "execute_result"
    }
   ],
   "source": [
    "import scala.math.sqrt\n",
    "\n",
    "implicit class IntOps(val x: Int) {\n",
    "    // Simple recursive solution\n",
    "    def isPrime(): Boolean = {\n",
    "        val sqrtx = sqrt(x).toInt\n",
    "        @annotation.tailrec\n",
    "        def inner(i: Int): Boolean = {\n",
    "            if (i > sqrtx)\n",
    "                true\n",
    "            else if (x % i == 0)\n",
    "                false\n",
    "            else\n",
    "                inner(i+1)\n",
    "        }\n",
    "        inner(2)\n",
    "    }\n",
    "    \n",
    "    // Concise solution using Streams\n",
    "    def isPrimeLazy(): Boolean =\n",
    "        !(Stream.range(2, sqrt(x).toInt).exists(x % _ == 0))\n",
    "}\n",
    "\n",
    "7.isPrime\n",
    "120.isPrime\n",
    "157.isPrime\n",
    "157.isPrimeLazy\n",
    "time { 550342.isPrime }\n",
    "time { 550342.isPrimeLazy }"
   ]
  },
  {
   "cell_type": "markdown",
   "metadata": {},
   "source": [
    "### 32\\. Determine the greatest common divisor of two positive integer numbers.\n",
    "Use Euclid's algorithm."
   ]
  },
  {
   "cell_type": "code",
   "execution_count": 20,
   "metadata": {},
   "outputs": [
    {
     "data": {
      "text/plain": [
       "defined \u001b[32mfunction\u001b[39m \u001b[36mgcd\u001b[39m\n",
       "\u001b[36mres19_1\u001b[39m: \u001b[32mInt\u001b[39m = \u001b[32m9\u001b[39m"
      ]
     },
     "execution_count": 20,
     "metadata": {},
     "output_type": "execute_result"
    }
   ],
   "source": [
    "@annotation.tailrec\n",
    "def gcd(x: Int, y: Int): Int = {\n",
    "    val rem = x % y\n",
    "    if (rem == 0) y else gcd(y, rem)\n",
    "}\n",
    "\n",
    "gcd(36, 63)"
   ]
  },
  {
   "cell_type": "markdown",
   "metadata": {},
   "source": [
    "### 33\\. Determine whether two positive integer numbers are coprime.\n",
    "Two numbers are coprime if their greatest common divisor equals 1."
   ]
  },
  {
   "cell_type": "code",
   "execution_count": 23,
   "metadata": {},
   "outputs": [
    {
     "data": {
      "text/plain": [
       "defined \u001b[32mclass\u001b[39m \u001b[36mIntOps2\u001b[39m\n",
       "\u001b[36mres22_1\u001b[39m: \u001b[32mBoolean\u001b[39m = \u001b[32mtrue\u001b[39m\n",
       "\u001b[36mres22_2\u001b[39m: \u001b[32mBoolean\u001b[39m = \u001b[32mfalse\u001b[39m"
      ]
     },
     "execution_count": 23,
     "metadata": {},
     "output_type": "execute_result"
    }
   ],
   "source": [
    "implicit class IntOps2(val x: Int) {\n",
    "    def isCoprimeTo(y: Int): Boolean = gcd(x, y) == 1\n",
    "}\n",
    "\n",
    "35 isCoprimeTo 64\n",
    "32 isCoprimeTo 64"
   ]
  },
  {
   "cell_type": "markdown",
   "metadata": {},
   "source": [
    "### 34\\. Calculate Euler's totient function phi(m).\n",
    "Euler's so-called totient function phi(m) is defined as the number of positive integers r (1 <= r <= m) that are coprime to m."
   ]
  },
  {
   "cell_type": "code",
   "execution_count": 51,
   "metadata": {},
   "outputs": [
    {
     "data": {
      "text/plain": [
       "defined \u001b[32mclass\u001b[39m \u001b[36mIntOps3\u001b[39m\n",
       "\u001b[36mres50_1\u001b[39m: \u001b[32mInt\u001b[39m = \u001b[32m4\u001b[39m"
      ]
     },
     "execution_count": 51,
     "metadata": {},
     "output_type": "execute_result"
    }
   ],
   "source": [
    "implicit class IntOps3(val x: Int) {\n",
    "    def totient(): Int = (1 to x).count(x isCoprimeTo _)\n",
    "}\n",
    "\n",
    "10 totient"
   ]
  },
  {
   "cell_type": "markdown",
   "metadata": {},
   "source": [
    "### 35\\. Determine the prime factors of a given positive integer.\n",
    "Construct a flat list containing the prime factors in ascending order."
   ]
  },
  {
   "cell_type": "code",
   "execution_count": 37,
   "metadata": {},
   "outputs": [
    {
     "data": {
      "text/plain": [
       "\u001b[36mprimes\u001b[39m: \u001b[32mStream\u001b[39m[\u001b[32mInt\u001b[39m] = \u001b[33mStream\u001b[39m(\n",
       "  \u001b[32m2\u001b[39m,\n",
       "  \u001b[32m3\u001b[39m,\n",
       "  \u001b[32m5\u001b[39m,\n",
       "  \u001b[32m7\u001b[39m,\n",
       "  \u001b[32m11\u001b[39m,\n",
       "  \u001b[32m13\u001b[39m,\n",
       "  \u001b[32m17\u001b[39m,\n",
       "  \u001b[32m19\u001b[39m,\n",
       "  \u001b[32m23\u001b[39m,\n",
       "  \u001b[32m29\u001b[39m,\n",
       "  \u001b[32m31\u001b[39m,\n",
       "\u001b[33m...\u001b[39m\n",
       "defined \u001b[32mclass\u001b[39m \u001b[36mIntOps4\u001b[39m\n",
       "\u001b[36mres36_2\u001b[39m: \u001b[32mList\u001b[39m[\u001b[32mInt\u001b[39m] = \u001b[33mList\u001b[39m(\u001b[32m3\u001b[39m, \u001b[32m3\u001b[39m, \u001b[32m5\u001b[39m, \u001b[32m7\u001b[39m)"
      ]
     },
     "execution_count": 37,
     "metadata": {},
     "output_type": "execute_result"
    }
   ],
   "source": [
    "val primes: Stream[Int] = 2 #:: Stream.from(3).filter { i =>\n",
    "   primes.takeWhile(p => p * p <= i).forall(p => i % p > 0) };\n",
    "\n",
    "implicit class IntOps4(val x: Int) {\n",
    "    def primeFactors(): List[Int] = {\n",
    "        def inner(i: Int, s: Stream[Int]): List[Int] = s match{\n",
    "            case _ if i isPrime => List(i)\n",
    "            case h#::t if i % h == 0 =>  h :: inner(i/h, s)\n",
    "            case _#::t => inner(i, t)\n",
    "        }\n",
    "        inner(x, primes)\n",
    "    }\n",
    "}\n",
    "315.primeFactors"
   ]
  },
  {
   "cell_type": "markdown",
   "metadata": {},
   "source": [
    "### 36\\.Determine the prime factors of a given positive integer (2).\n",
    "Construct a list containing the prime factors and their multiplicity.\n",
    "Alternately, use a Map for the result."
   ]
  },
  {
   "cell_type": "code",
   "execution_count": 44,
   "metadata": {},
   "outputs": [
    {
     "data": {
      "text/plain": [
       "\u001b[32mimport \u001b[39m\u001b[36mscala.collection.immutable.ListMap\n",
       "\n",
       "\u001b[39m\n",
       "defined \u001b[32mclass\u001b[39m \u001b[36mIntOps5\u001b[39m\n",
       "\u001b[36mres43_2\u001b[39m: \u001b[32mList\u001b[39m[(\u001b[32mInt\u001b[39m, \u001b[32mInt\u001b[39m)] = \u001b[33mList\u001b[39m((\u001b[32m3\u001b[39m, \u001b[32m2\u001b[39m), (\u001b[32m5\u001b[39m, \u001b[32m1\u001b[39m), (\u001b[32m7\u001b[39m, \u001b[32m1\u001b[39m))\n",
       "\u001b[36mres43_3\u001b[39m: \u001b[32mMap\u001b[39m[\u001b[32mInt\u001b[39m, \u001b[32mInt\u001b[39m] = \u001b[33mMap\u001b[39m(\u001b[32m3\u001b[39m -> \u001b[32m2\u001b[39m, \u001b[32m5\u001b[39m -> \u001b[32m1\u001b[39m, \u001b[32m7\u001b[39m -> \u001b[32m1\u001b[39m)\n",
       "\u001b[36mres43_4\u001b[39m: (\u001b[32mList\u001b[39m[(\u001b[32mInt\u001b[39m, \u001b[32mInt\u001b[39m)], \u001b[32mconcurrent\u001b[39m.\u001b[32mduration\u001b[39m.\u001b[32mFiniteDuration\u001b[39m) = (\u001b[33mList\u001b[39m((\u001b[32m5\u001b[39m, \u001b[32m2\u001b[39m), (\u001b[32m17\u001b[39m, \u001b[32m2\u001b[39m), (\u001b[32m1429\u001b[39m, \u001b[32m1\u001b[39m)), 87298 nanoseconds)\n",
       "\u001b[36mres43_5\u001b[39m: (\u001b[32mMap\u001b[39m[\u001b[32mInt\u001b[39m, \u001b[32mInt\u001b[39m], \u001b[32mconcurrent\u001b[39m.\u001b[32mduration\u001b[39m.\u001b[32mFiniteDuration\u001b[39m) = (\u001b[33mMap\u001b[39m(\u001b[32m5\u001b[39m -> \u001b[32m2\u001b[39m, \u001b[32m17\u001b[39m -> \u001b[32m2\u001b[39m, \u001b[32m1429\u001b[39m -> \u001b[32m1\u001b[39m), 130726 nanoseconds)"
      ]
     },
     "execution_count": 44,
     "metadata": {},
     "output_type": "execute_result"
    }
   ],
   "source": [
    "import scala.collection.immutable.ListMap\n",
    "\n",
    "implicit class IntOps5(val x: Int) {\n",
    "    def primeFactorMultiplicity(): List[(Int, Int)] =\n",
    "        x.primeFactors.groupBy(identity)\n",
    "                      .mapValues { _.length }\n",
    "                      .toList\n",
    "                      .sortBy(_._1)\n",
    "    \n",
    "    def primeFactorMultiplicityMap(): Map[Int, Int] =\n",
    "        ListMap(x.primeFactors\n",
    "                    .groupBy(identity)\n",
    "                    .mapValues { _.length }\n",
    "                    .toSeq\n",
    "                    .sortBy(_._1):_*)\n",
    "}\n",
    "\n",
    "315.primeFactorMultiplicity\n",
    "315.primeFactorMultiplicityMap\n",
    "time { 10324525.primeFactorMultiplicity }\n",
    "time { 10324525.primeFactorMultiplicityMap }"
   ]
  },
  {
   "cell_type": "markdown",
   "metadata": {},
   "source": [
    "### 37\\. Calculate Euler's totient function phi(m) (improved).\n",
    "See problem P34 for the definition of Euler's totient function. If the list of the prime factors of a number m is known in the form of problem P36 then the function phi(m>) can be efficiently calculated as follows: Let [[p1, m1], [p2, m2], [p3, m3], ...] be the list of prime factors (and their multiplicities) of a given number m. Then phi(m) can be calculated with the following formula:\n",
    "    $$ phi(m) = (p1-1)*p1^{(m1-1)} * (p2-1)*p2^{(m2-1)} * (p3-1)*p3^{(m3-1)} * ... $$"
   ]
  },
  {
   "cell_type": "code",
   "execution_count": 57,
   "metadata": {},
   "outputs": [
    {
     "data": {
      "text/plain": [
       "defined \u001b[32mclass\u001b[39m \u001b[36mIntOps6\u001b[39m\n",
       "\u001b[36mres56_1\u001b[39m: (\u001b[32mInt\u001b[39m, \u001b[32mconcurrent\u001b[39m.\u001b[32mduration\u001b[39m.\u001b[32mFiniteDuration\u001b[39m) = (\u001b[32m4000000\u001b[39m, 521831 nanoseconds)\n",
       "\u001b[36mres56_2\u001b[39m: (\u001b[32mInt\u001b[39m, \u001b[32mconcurrent\u001b[39m.\u001b[32mduration\u001b[39m.\u001b[32mFiniteDuration\u001b[39m) = (\u001b[32m4000000\u001b[39m, 1335419922 nanoseconds)"
      ]
     },
     "execution_count": 57,
     "metadata": {},
     "output_type": "execute_result"
    }
   ],
   "source": [
    "implicit class IntOps6(val x: Int) {\n",
    "    def totientImproved(): Int = x.primeFactorMultiplicity.foldLeft(1) {\n",
    "       case (accum, (p, m)) => accum * (p-1) * Math.pow(p, m-1).toInt\n",
    "    }\n",
    "}\n",
    "\n",
    "time { 10000000.totientImproved }\n",
    "time { 10000000.totient }"
   ]
  },
  {
   "cell_type": "markdown",
   "metadata": {},
   "source": [
    "### 38\\. Compare the two methods of calculating Euler's totient function.\n",
    "Use the solutions of problems P34 and P37 to compare the algorithms. Try to calculate phi(10090) as an example."
   ]
  },
  {
   "cell_type": "code",
   "execution_count": 61,
   "metadata": {},
   "outputs": [
    {
     "data": {
      "text/plain": [
       "\u001b[36mres60_0\u001b[39m: \u001b[32mLong\u001b[39m = \u001b[32m4257L\u001b[39m\n",
       "\u001b[36mres60_1\u001b[39m: \u001b[32mLong\u001b[39m = \u001b[32m889187L\u001b[39m"
      ]
     },
     "execution_count": 61,
     "metadata": {},
     "output_type": "execute_result"
    }
   ],
   "source": [
    "(for (_ <- 1 to 10000) yield time(10090 totientImproved)._2.toNanos).sum / 10000\n",
    "(for (_ <- 1 to 10000) yield time(10090 totient)._2.toNanos).sum / 10000"
   ]
  },
  {
   "cell_type": "markdown",
   "metadata": {},
   "source": [
    "### 39\\. A list of prime numbers.\n",
    "Given a range of integers by its lower and upper limit, construct a list of all prime numbers in that range."
   ]
  },
  {
   "cell_type": "code",
   "execution_count": 63,
   "metadata": {},
   "outputs": [
    {
     "data": {
      "text/plain": [
       "defined \u001b[32mfunction\u001b[39m \u001b[36mlistPrimesInRange\u001b[39m\n",
       "\u001b[36mres62_1\u001b[39m: \u001b[32mList\u001b[39m[\u001b[32mInt\u001b[39m] = \u001b[33mList\u001b[39m(\u001b[32m7\u001b[39m, \u001b[32m11\u001b[39m, \u001b[32m13\u001b[39m, \u001b[32m17\u001b[39m, \u001b[32m19\u001b[39m, \u001b[32m23\u001b[39m, \u001b[32m29\u001b[39m)"
      ]
     },
     "execution_count": 63,
     "metadata": {},
     "output_type": "execute_result"
    }
   ],
   "source": [
    "def listPrimesInRange(range: Seq[Int]): List[Int] =\n",
    "   primes.dropWhile(_ < range.head).takeWhile(_ < range.last).toList\n",
    "\n",
    "listPrimesInRange(7 to 31)"
   ]
  },
  {
   "cell_type": "markdown",
   "metadata": {},
   "source": [
    "### 40\\. Goldbach's conjecture.\n",
    "Goldbach's conjecture says that every positive even number greater than 2 is the sum of two prime numbers. E.g. 28 = 5 + 23. It is one of the most famous facts in number theory that has not been proved to be correct in the general case. It has been numerically confirmed up to very large numbers (much larger than Scala's Int can represent). Write a function to find the two prime numbers that sum up to a given even integer."
   ]
  },
  {
   "cell_type": "code",
   "execution_count": 72,
   "metadata": {},
   "outputs": [
    {
     "data": {
      "text/plain": [
       "defined \u001b[32mclass\u001b[39m \u001b[36mIntOps7\u001b[39m\n",
       "\u001b[36mres71_1\u001b[39m: \u001b[32mOption\u001b[39m[(\u001b[32mInt\u001b[39m, \u001b[32mInt\u001b[39m)] = \u001b[33mSome\u001b[39m((\u001b[32m5\u001b[39m, \u001b[32m23\u001b[39m))"
      ]
     },
     "execution_count": 72,
     "metadata": {},
     "output_type": "execute_result"
    }
   ],
   "source": [
    "implicit class IntOps7(val x: Int) {\n",
    "    def goldbach(): Option[(Int, Int)] = {\n",
    "        val p = primes.find(p => (x - p).isPrime)\n",
    "        p map { y => (y, x - y) }\n",
    "    }\n",
    "}\n",
    "\n",
    "28.goldbach"
   ]
  },
  {
   "cell_type": "markdown",
   "metadata": {},
   "source": [
    "### 41\\. A list of Goldbach compositions.\n",
    "Given a range of integers by its lower and upper limit, print a list of all even numbers and their Goldbach composition."
   ]
  },
  {
   "cell_type": "code",
   "execution_count": 84,
   "metadata": {},
   "outputs": [
    {
     "name": "stdout",
     "output_type": "stream",
     "text": [
      "10 = 3 + 7\n",
      "12 = 5 + 7\n",
      "14 = 3 + 11\n",
      "16 = 3 + 13\n",
      "18 = 5 + 13\n",
      "20 = 3 + 17\n"
     ]
    },
    {
     "data": {
      "text/plain": [
       "\u001b[32mimport \u001b[39m\u001b[36mscalaz.effect.IO._\n",
       "\n",
       "\u001b[39m\n",
       "defined \u001b[32mfunction\u001b[39m \u001b[36mprintGoldbachList\u001b[39m"
      ]
     },
     "execution_count": 84,
     "metadata": {},
     "output_type": "execute_result"
    }
   ],
   "source": [
    "import scalaz.effect.IO._\n",
    "\n",
    "def printGoldbachList(range: Seq[Int]): IO[Unit] = (for {\n",
    "    n <- range if n % 2 == 0\n",
    "    io = (n goldbach).fold(ioUnit) { case (p1, p2) => putStrLn(s\"$n = $p1 + $p2\") }\n",
    "} yield io).foldLeft(ioUnit)(_ |+| _)\n",
    "\n",
    "printGoldbachList(9 to 20).unsafePerformIO"
   ]
  },
  {
   "cell_type": "markdown",
   "metadata": {},
   "source": [
    "In most cases, if an even number is written as the sum of two prime numbers, one of them is very small. Very rarely, the primes are both bigger than, say, 50. Try to find out how many such cases there are in the range 2..3000."
   ]
  },
  {
   "cell_type": "code",
   "execution_count": 87,
   "metadata": {},
   "outputs": [
    {
     "name": "stdout",
     "output_type": "stream",
     "text": [
      "992 = 73 + 919\n",
      "1382 = 61 + 1321\n",
      "1856 = 67 + 1789\n",
      "1928 = 61 + 1867\n"
     ]
    },
    {
     "data": {
      "text/plain": [
       "defined \u001b[32mfunction\u001b[39m \u001b[36mprintGoldbachListLimited\u001b[39m"
      ]
     },
     "execution_count": 87,
     "metadata": {},
     "output_type": "execute_result"
    }
   ],
   "source": [
    "def printGoldbachListLimited(range: Seq[Int], limit: Int): IO[Unit] = (for {\n",
    "    n <- range if n % 2 == 0\n",
    "    io = (n goldbach).fold(ioUnit) {\n",
    "        case (p1, p2) if p1 > limit && p2 > limit => putStrLn(s\"$n = $p1 + $p2\")\n",
    "        case _ => ioUnit\n",
    "    }\n",
    "} yield io).foldLeft(ioUnit)(_ |+| _)\n",
    "\n",
    "printGoldbachListLimited(1 to 2000, 50).unsafePerformIO"
   ]
  }
 ],
 "metadata": {
  "kernelspec": {
   "display_name": "Scala",
   "language": "scala",
   "name": "scala"
  },
  "language_info": {
   "codemirror_mode": "text/x-scala",
   "file_extension": ".scala",
   "mimetype": "text/x-scala",
   "name": "scala211",
   "nbconvert_exporter": "script",
   "pygments_lexer": "scala",
   "version": "2.11.11"
  }
 },
 "nbformat": 4,
 "nbformat_minor": 2
}
