{
 "cells": [
  {
   "cell_type": "markdown",
   "metadata": {},
   "source": [
    "### 99 Scala Exercises 10-19"
   ]
  },
  {
   "cell_type": "markdown",
   "metadata": {},
   "source": [
    "### 10\\. Run-length encoding of a list.\n",
    "Use the result of problem P09 to implement the so-called run-length encoding data compression method. Consecutive duplicates of elements are encoded as tuples (N, E) where N is the number of duplicates of the element E."
   ]
  },
  {
   "cell_type": "code",
   "execution_count": 4,
   "metadata": {},
   "outputs": [
    {
     "data": {
      "text/plain": [
       "defined \u001b[32mfunction\u001b[39m \u001b[36mpack\u001b[39m\n",
       "defined \u001b[32mfunction\u001b[39m \u001b[36mencode\u001b[39m\n",
       "\u001b[36mres3_2\u001b[39m: \u001b[32mList\u001b[39m[(\u001b[32mInt\u001b[39m, \u001b[32mSymbol\u001b[39m)] = \u001b[33mList\u001b[39m((\u001b[32m4\u001b[39m, \u001b[32m'a\u001b[39m), (\u001b[32m1\u001b[39m, \u001b[32m'b\u001b[39m), (\u001b[32m2\u001b[39m, \u001b[32m'c\u001b[39m), (\u001b[32m2\u001b[39m, \u001b[32m'a\u001b[39m), (\u001b[32m1\u001b[39m, \u001b[32m'd\u001b[39m), (\u001b[32m4\u001b[39m, \u001b[32m'e\u001b[39m))"
      ]
     },
     "execution_count": 4,
     "metadata": {},
     "output_type": "execute_result"
    }
   ],
   "source": [
    "// Problem 9 Solution\n",
    "def pack[A](l: List[A]): List[List[A]] = l match {\n",
    "    case x::xs => {\n",
    "        // Split list by predicate. Equivalent to takewhile + dropwhile\n",
    "        val (ys, zs) = l span(_ == x) \n",
    "        ys :: pack(zs)\n",
    "    }\n",
    "    case _ => Nil\n",
    "}\n",
    "\n",
    "// Problem 10 Solution\n",
    "// Using 'collect' instead 'map' ensures that the list is not empty\n",
    "// by using the partial application.\n",
    "def encode[A](l: List[A]): List[(Int, A)] =\n",
    "    pack(l) collect { case x::xs => (xs.length + 1, x) }\n",
    "\n",
    "encode(List('a, 'a, 'a, 'a, 'b, 'c, 'c, 'a, 'a, 'd, 'e, 'e, 'e, 'e))"
   ]
  },
  {
   "cell_type": "markdown",
   "metadata": {},
   "source": [
    "### 11\\. Modified run-length encoding.\n",
    "Modify the result of problem P10 in such a way that if an element has no duplicates it is simply copied into the result list. Only elements with duplicates are transferred as (N, E) terms."
   ]
  },
  {
   "cell_type": "code",
   "execution_count": 5,
   "metadata": {},
   "outputs": [
    {
     "data": {
      "text/plain": [
       "defined \u001b[32mfunction\u001b[39m \u001b[36mencodeModified\u001b[39m\n",
       "\u001b[36mres4_1\u001b[39m: \u001b[32mList\u001b[39m[\u001b[32mAny\u001b[39m] = \u001b[33mList\u001b[39m((4,'a), 'b, (2,'c), (2,'a), 'd, (4,'e))"
      ]
     },
     "execution_count": 5,
     "metadata": {},
     "output_type": "execute_result"
    }
   ],
   "source": [
    "def encodeModified[A](l: List[A]): List[Any] = pack(l) collect {\n",
    "    case x::xs if xs.length > 0 => (xs.length + 1, x)\n",
    "    case x::_                   => x\n",
    "}\n",
    "\n",
    "encodeModified(List('a, 'a, 'a, 'a, 'b, 'c, 'c, 'a, 'a, 'd, 'e, 'e, 'e, 'e))"
   ]
  },
  {
   "cell_type": "markdown",
   "metadata": {},
   "source": [
    "### 12\\. Decode a run-length encoded list.\n",
    "Given a run-length code list generated as specified in problem P10, construct its uncompressed version.\n"
   ]
  },
  {
   "cell_type": "code",
   "execution_count": 10,
   "metadata": {},
   "outputs": [
    {
     "data": {
      "text/plain": [
       "defined \u001b[32mfunction\u001b[39m \u001b[36mdecode\u001b[39m\n",
       "\u001b[36mres9_1\u001b[39m: \u001b[32mList\u001b[39m[\u001b[32mSymbol\u001b[39m] = \u001b[33mList\u001b[39m(\u001b[32m'a\u001b[39m, \u001b[32m'a\u001b[39m, \u001b[32m'a\u001b[39m, \u001b[32m'a\u001b[39m, \u001b[32m'b\u001b[39m, \u001b[32m'c\u001b[39m, \u001b[32m'c\u001b[39m, \u001b[32m'a\u001b[39m, \u001b[32m'a\u001b[39m, \u001b[32m'd\u001b[39m, \u001b[32m'e\u001b[39m, \u001b[32m'e\u001b[39m, \u001b[32m'e\u001b[39m, \u001b[32m'e\u001b[39m)"
      ]
     },
     "execution_count": 10,
     "metadata": {},
     "output_type": "execute_result"
    }
   ],
   "source": [
    "def decode[A](l: List[(Int, A)]): List[A] =\n",
    "    l flatMap { case (n, a) => List.fill(n)(a) }\n",
    "\n",
    "decode(List((4, 'a), (1, 'b), (2, 'c), (2, 'a), (1, 'd), (4, 'e)))"
   ]
  },
  {
   "cell_type": "markdown",
   "metadata": {},
   "source": [
    "### 13\\. Run-length encoding of a list (direct solution).\n",
    "Implement the so-called run-length encoding data compression method directly. I.e. don't use other methods you've written (like P09's pack); do all the work directly."
   ]
  },
  {
   "cell_type": "code",
   "execution_count": 11,
   "metadata": {},
   "outputs": [
    {
     "data": {
      "text/plain": [
       "defined \u001b[32mfunction\u001b[39m \u001b[36mencodeDirect\u001b[39m\n",
       "\u001b[36mres10_1\u001b[39m: \u001b[32mList\u001b[39m[(\u001b[32mInt\u001b[39m, \u001b[32mSymbol\u001b[39m)] = \u001b[33mList\u001b[39m((\u001b[32m4\u001b[39m, \u001b[32m'a\u001b[39m), (\u001b[32m1\u001b[39m, \u001b[32m'b\u001b[39m), (\u001b[32m2\u001b[39m, \u001b[32m'c\u001b[39m), (\u001b[32m2\u001b[39m, \u001b[32m'a\u001b[39m), (\u001b[32m1\u001b[39m, \u001b[32m'd\u001b[39m), (\u001b[32m4\u001b[39m, \u001b[32m'e\u001b[39m))"
      ]
     },
     "execution_count": 11,
     "metadata": {},
     "output_type": "execute_result"
    }
   ],
   "source": [
    "def encodeDirect[A](l: List[A]): List[(Int, A)] = l match {\n",
    "    case x::xs => {\n",
    "        val (ys, zs) = xs span(_ == x)\n",
    "        (ys.length + 1, x) :: encodeDirect(zs)\n",
    "    }\n",
    "    case _ => Nil\n",
    "}\n",
    "encodeDirect(List('a, 'a, 'a, 'a, 'b, 'c, 'c, 'a, 'a, 'd, 'e, 'e, 'e, 'e))"
   ]
  },
  {
   "cell_type": "code",
   "execution_count": 14,
   "metadata": {},
   "outputs": [
    {
     "data": {
      "text/plain": [
       "\u001b[36mres13_0\u001b[39m: (\u001b[32mList\u001b[39m[(\u001b[32mInt\u001b[39m, \u001b[32mSymbol\u001b[39m)], \u001b[32mconcurrent\u001b[39m.\u001b[32mduration\u001b[39m.\u001b[32mFiniteDuration\u001b[39m) = (\u001b[33mList\u001b[39m((\u001b[32m4\u001b[39m, \u001b[32m'a\u001b[39m), (\u001b[32m1\u001b[39m, \u001b[32m'b\u001b[39m), (\u001b[32m2\u001b[39m, \u001b[32m'c\u001b[39m), (\u001b[32m2\u001b[39m, \u001b[32m'a\u001b[39m), (\u001b[32m1\u001b[39m, \u001b[32m'd\u001b[39m), (\u001b[32m4\u001b[39m, \u001b[32m'e\u001b[39m)), 139325 nanoseconds)\n",
       "\u001b[36mres13_1\u001b[39m: (\u001b[32mList\u001b[39m[(\u001b[32mInt\u001b[39m, \u001b[32mSymbol\u001b[39m)], \u001b[32mconcurrent\u001b[39m.\u001b[32mduration\u001b[39m.\u001b[32mFiniteDuration\u001b[39m) = (\u001b[33mList\u001b[39m((\u001b[32m4\u001b[39m, \u001b[32m'a\u001b[39m), (\u001b[32m1\u001b[39m, \u001b[32m'b\u001b[39m), (\u001b[32m2\u001b[39m, \u001b[32m'c\u001b[39m), (\u001b[32m2\u001b[39m, \u001b[32m'a\u001b[39m), (\u001b[32m1\u001b[39m, \u001b[32m'd\u001b[39m), (\u001b[32m4\u001b[39m, \u001b[32m'e\u001b[39m)), 127253 nanoseconds)"
      ]
     },
     "execution_count": 14,
     "metadata": {},
     "output_type": "execute_result"
    }
   ],
   "source": [
    "// Comparison\n",
    "time { encodeDirect(List('a, 'a, 'a, 'a, 'b, 'c, 'c, 'a, 'a, 'd, 'e, 'e, 'e, 'e)) }\n",
    "time { encode(List('a, 'a, 'a, 'a, 'b, 'c, 'c, 'a, 'a, 'd, 'e, 'e, 'e, 'e)) }"
   ]
  },
  {
   "cell_type": "markdown",
   "metadata": {},
   "source": [
    "### 14\\. Duplicate the elements of a list."
   ]
  },
  {
   "cell_type": "code",
   "execution_count": 14,
   "metadata": {},
   "outputs": [
    {
     "data": {
      "text/plain": [
       "defined \u001b[32mfunction\u001b[39m \u001b[36mduplicate\u001b[39m\n",
       "\u001b[32mimport \u001b[39m\u001b[36mscala.collection.mutable._\n",
       "\u001b[39m\n",
       "defined \u001b[32mfunction\u001b[39m \u001b[36mduplicateMut\u001b[39m\n",
       "\u001b[36ml1\u001b[39m: \u001b[32mList\u001b[39m[\u001b[32mSymbol\u001b[39m] = \u001b[33mList\u001b[39m(\u001b[32m'a\u001b[39m, \u001b[32m'b\u001b[39m, \u001b[32m'c\u001b[39m, \u001b[32m'c\u001b[39m, \u001b[32m'd\u001b[39m)\n",
       "\u001b[36mres13_4\u001b[39m: (\u001b[32mList\u001b[39m[\u001b[32mSymbol\u001b[39m], \u001b[32mconcurrent\u001b[39m.\u001b[32mduration\u001b[39m.\u001b[32mFiniteDuration\u001b[39m) = (\u001b[33mList\u001b[39m(\u001b[32m'a\u001b[39m, \u001b[32m'a\u001b[39m, \u001b[32m'b\u001b[39m, \u001b[32m'b\u001b[39m, \u001b[32m'c\u001b[39m, \u001b[32m'c\u001b[39m, \u001b[32m'c\u001b[39m, \u001b[32m'c\u001b[39m, \u001b[32m'd\u001b[39m, \u001b[32m'd\u001b[39m), 195480 nanoseconds)\n",
       "\u001b[36mres13_5\u001b[39m: (\u001b[32mList\u001b[39m[\u001b[32mSymbol\u001b[39m], \u001b[32mconcurrent\u001b[39m.\u001b[32mduration\u001b[39m.\u001b[32mFiniteDuration\u001b[39m) = (\u001b[33mList\u001b[39m(\u001b[32m'a\u001b[39m, \u001b[32m'a\u001b[39m, \u001b[32m'b\u001b[39m, \u001b[32m'b\u001b[39m, \u001b[32m'c\u001b[39m, \u001b[32m'c\u001b[39m, \u001b[32m'c\u001b[39m, \u001b[32m'c\u001b[39m, \u001b[32m'd\u001b[39m, \u001b[32m'd\u001b[39m), 178693 nanoseconds)\n",
       "\u001b[36ml2\u001b[39m: \u001b[32mList\u001b[39m[\u001b[32mInt\u001b[39m] = \u001b[33mList\u001b[39m(\n",
       "  \u001b[32m1\u001b[39m,\n",
       "  \u001b[32m2\u001b[39m,\n",
       "  \u001b[32m3\u001b[39m,\n",
       "  \u001b[32m4\u001b[39m,\n",
       "  \u001b[32m5\u001b[39m,\n",
       "  \u001b[32m6\u001b[39m,\n",
       "  \u001b[32m7\u001b[39m,\n",
       "  \u001b[32m8\u001b[39m,\n",
       "  \u001b[32m9\u001b[39m,\n",
       "  \u001b[32m10\u001b[39m,\n",
       "  \u001b[32m11\u001b[39m,\n",
       "\u001b[33m...\u001b[39m\n",
       "\u001b[36mres13_7\u001b[39m: \u001b[32mconcurrent\u001b[39m.\u001b[32mduration\u001b[39m.\u001b[32mFiniteDuration\u001b[39m = 4281170046 nanoseconds\n",
       "\u001b[36mres13_8\u001b[39m: \u001b[32mconcurrent\u001b[39m.\u001b[32mduration\u001b[39m.\u001b[32mFiniteDuration\u001b[39m = 67388836 nanoseconds"
      ]
     },
     "execution_count": 14,
     "metadata": {},
     "output_type": "execute_result"
    }
   ],
   "source": [
    "def duplicate[A](l: List[A]): List[A] = l flatMap { x => x::x::Nil }\n",
    "\n",
    "// Efficient version using local mutable state. Still side effect free.\n",
    "import scala.collection.mutable._\n",
    "def duplicateMut[A](l: List[A]): List[A] = {\n",
    "    val buffer = ListBuffer.empty[A]\n",
    "    l.foreach { x => buffer += x; buffer += x} \n",
    "    buffer.toList\n",
    "}\n",
    "// Not relevant difference\n",
    "val l1 = List('a, 'b, 'c, 'c, 'd)\n",
    "time { duplicate(l1) }\n",
    "time { duplicateMut(l1) }\n",
    "// But...\n",
    "val l2 = (1 to 3000000).toList\n",
    "time(duplicate(l2))._2\n",
    "time(duplicateMut(l2))._2"
   ]
  },
  {
   "cell_type": "markdown",
   "metadata": {},
   "source": [
    "### 15\\. Duplicate the elements of a list a given number of times."
   ]
  },
  {
   "cell_type": "code",
   "execution_count": 19,
   "metadata": {},
   "outputs": [
    {
     "data": {
      "text/plain": [
       "defined \u001b[32mfunction\u001b[39m \u001b[36mduplicateN\u001b[39m\n",
       "\u001b[32mimport \u001b[39m\u001b[36mscala.collection.mutable._\n",
       "\u001b[39m\n",
       "defined \u001b[32mfunction\u001b[39m \u001b[36mduplicateN_Mut\u001b[39m\n",
       "\u001b[36ml1\u001b[39m: \u001b[32mList\u001b[39m[\u001b[32mSymbol\u001b[39m] = \u001b[33mList\u001b[39m(\u001b[32m'a\u001b[39m, \u001b[32m'b\u001b[39m, \u001b[32m'c\u001b[39m, \u001b[32m'c\u001b[39m, \u001b[32m'd\u001b[39m)\n",
       "\u001b[36mres18_4\u001b[39m: \u001b[32mList\u001b[39m[\u001b[32mSymbol\u001b[39m] = \u001b[33mList\u001b[39m(\u001b[32m'a\u001b[39m, \u001b[32m'a\u001b[39m, \u001b[32m'a\u001b[39m, \u001b[32m'b\u001b[39m, \u001b[32m'b\u001b[39m, \u001b[32m'b\u001b[39m, \u001b[32m'c\u001b[39m, \u001b[32m'c\u001b[39m, \u001b[32m'c\u001b[39m, \u001b[32m'c\u001b[39m, \u001b[32m'c\u001b[39m, \u001b[32m'c\u001b[39m, \u001b[32m'd\u001b[39m, \u001b[32m'd\u001b[39m, \u001b[32m'd\u001b[39m)\n",
       "\u001b[36mres18_5\u001b[39m: \u001b[32mList\u001b[39m[\u001b[32mSymbol\u001b[39m] = \u001b[33mList\u001b[39m(\u001b[32m'a\u001b[39m, \u001b[32m'a\u001b[39m, \u001b[32m'a\u001b[39m, \u001b[32m'b\u001b[39m, \u001b[32m'b\u001b[39m, \u001b[32m'b\u001b[39m, \u001b[32m'c\u001b[39m, \u001b[32m'c\u001b[39m, \u001b[32m'c\u001b[39m, \u001b[32m'c\u001b[39m, \u001b[32m'c\u001b[39m, \u001b[32m'c\u001b[39m, \u001b[32m'd\u001b[39m, \u001b[32m'd\u001b[39m, \u001b[32m'd\u001b[39m)\n",
       "\u001b[36mres18_6\u001b[39m: \u001b[32mconcurrent\u001b[39m.\u001b[32mduration\u001b[39m.\u001b[32mFiniteDuration\u001b[39m = 990896 nanoseconds\n",
       "\u001b[36mres18_7\u001b[39m: \u001b[32mconcurrent\u001b[39m.\u001b[32mduration\u001b[39m.\u001b[32mFiniteDuration\u001b[39m = 1630854 nanoseconds"
      ]
     },
     "execution_count": 19,
     "metadata": {},
     "output_type": "execute_result"
    }
   ],
   "source": [
    "// Pure functional way\n",
    "def duplicateN[A](n: Int)(l: List[A]): List[A] = l flatMap { x => List.fill(n)(x) }\n",
    "\n",
    "// Using local mutable state. Still side effect free.\n",
    "import scala.collection.mutable._\n",
    "def duplicateN_Mut[A](n: Int)(l: List[A]): List[A] = {\n",
    "    val buffer = ListBuffer.empty[A]\n",
    "    for (x <- l; _ <- 1 to n) buffer += x\n",
    "    buffer.toList\n",
    "}\n",
    "val l1 = List('a, 'b, 'c, 'c, 'd)\n",
    "duplicateN(3)(l1)\n",
    "duplicateN_Mut(3)(l1)\n",
    "time (duplicateN(5000)(l1))._2\n",
    "time (duplicateN_Mut(5000)(l1))._2"
   ]
  },
  {
   "cell_type": "markdown",
   "metadata": {},
   "source": [
    "### 16\\. Drop every Nth element from a list."
   ]
  },
  {
   "cell_type": "code",
   "execution_count": 48,
   "metadata": {},
   "outputs": [
    {
     "data": {
      "text/plain": [
       "defined \u001b[32mfunction\u001b[39m \u001b[36mdropRec\u001b[39m\n",
       "defined \u001b[32mfunction\u001b[39m \u001b[36mdropTailRec\u001b[39m\n",
       "defined \u001b[32mfunction\u001b[39m \u001b[36mdrop\u001b[39m\n",
       "\u001b[36ml\u001b[39m: \u001b[32mList\u001b[39m[\u001b[32mSymbol\u001b[39m] = \u001b[33mList\u001b[39m(\u001b[32m'a\u001b[39m, \u001b[32m'b\u001b[39m, \u001b[32m'c\u001b[39m, \u001b[32m'd\u001b[39m, \u001b[32m'e\u001b[39m, \u001b[32m'f\u001b[39m, \u001b[32m'g\u001b[39m, \u001b[32m'h\u001b[39m, \u001b[32m'i\u001b[39m, \u001b[32m'j\u001b[39m, \u001b[32m'k\u001b[39m)\n",
       "\u001b[36mres47_4\u001b[39m: \u001b[32mList\u001b[39m[\u001b[32mSymbol\u001b[39m] = \u001b[33mList\u001b[39m(\u001b[32m'a\u001b[39m, \u001b[32m'b\u001b[39m, \u001b[32m'd\u001b[39m, \u001b[32m'e\u001b[39m, \u001b[32m'g\u001b[39m, \u001b[32m'h\u001b[39m, \u001b[32m'j\u001b[39m, \u001b[32m'k\u001b[39m)\n",
       "\u001b[36mres47_5\u001b[39m: \u001b[32mList\u001b[39m[\u001b[32mSymbol\u001b[39m] = \u001b[33mList\u001b[39m(\u001b[32m'a\u001b[39m, \u001b[32m'b\u001b[39m, \u001b[32m'd\u001b[39m, \u001b[32m'e\u001b[39m, \u001b[32m'g\u001b[39m, \u001b[32m'h\u001b[39m, \u001b[32m'j\u001b[39m, \u001b[32m'k\u001b[39m)\n",
       "\u001b[36mres47_6\u001b[39m: \u001b[32mList\u001b[39m[\u001b[32mSymbol\u001b[39m] = \u001b[33mList\u001b[39m(\u001b[32m'a\u001b[39m, \u001b[32m'b\u001b[39m, \u001b[32m'd\u001b[39m, \u001b[32m'e\u001b[39m, \u001b[32m'g\u001b[39m, \u001b[32m'h\u001b[39m, \u001b[32m'j\u001b[39m, \u001b[32m'k\u001b[39m)\n",
       "\u001b[36ml2\u001b[39m: \u001b[32mList\u001b[39m[\u001b[32mInt\u001b[39m] = \u001b[33mList\u001b[39m(\n",
       "  \u001b[32m1\u001b[39m,\n",
       "  \u001b[32m2\u001b[39m,\n",
       "  \u001b[32m3\u001b[39m,\n",
       "  \u001b[32m4\u001b[39m,\n",
       "  \u001b[32m5\u001b[39m,\n",
       "  \u001b[32m6\u001b[39m,\n",
       "  \u001b[32m7\u001b[39m,\n",
       "  \u001b[32m8\u001b[39m,\n",
       "  \u001b[32m9\u001b[39m,\n",
       "  \u001b[32m10\u001b[39m,\n",
       "  \u001b[32m11\u001b[39m,\n",
       "\u001b[33m...\u001b[39m\n",
       "\u001b[36mres47_8\u001b[39m: \u001b[32mconcurrent\u001b[39m.\u001b[32mduration\u001b[39m.\u001b[32mFiniteDuration\u001b[39m = 3924436 nanoseconds\n",
       "\u001b[36mres47_9\u001b[39m: \u001b[32mconcurrent\u001b[39m.\u001b[32mduration\u001b[39m.\u001b[32mFiniteDuration\u001b[39m = 384546 nanoseconds\n",
       "\u001b[36mres47_10\u001b[39m: \u001b[32mconcurrent\u001b[39m.\u001b[32mduration\u001b[39m.\u001b[32mFiniteDuration\u001b[39m = 246044 nanoseconds"
      ]
     },
     "execution_count": 48,
     "metadata": {},
     "output_type": "execute_result"
    }
   ],
   "source": [
    "// Simple recursive method\n",
    "def dropRec[A](n: Int)(l: List[A]): List[A] = {\n",
    "    // Inner function to save n between recursive calls.\n",
    "    def inner(nInner: Int, lInner: List[A]): List[A] = lInner match {\n",
    "        case _::xs if nInner == 1 => inner(n, xs)\n",
    "        case x::xs => x :: inner(nInner-1, xs)\n",
    "        case _ => Nil\n",
    "    }\n",
    "    inner(n, l)\n",
    "}\n",
    "\n",
    "// Tail recursive method\n",
    "def dropTailRec[A](n: Int)(l: List[A]): List[A] = {\n",
    "    // Inner function to save n between recursive calls.\n",
    "    @annotation.tailrec\n",
    "    def inner(nInner: Int, lInner: List[A], accum: List[A]): List[A] = lInner match {\n",
    "        case _::xs if nInner == 1 => inner(n, xs, accum)\n",
    "        case x::xs => inner(nInner -1,  xs, x +: accum) // prepend takes O(1) and append O(n)\n",
    "        case _ => accum.reverse\n",
    "    }\n",
    "    inner(n, l, List.empty)\n",
    "}\n",
    "\n",
    "// Simple but inefficient version \n",
    "def drop[A](n: Int)(l: List[A]): List[A] = for {\n",
    "    (x, i) <- l.zipWithIndex if (i+1) % n != 0\n",
    "} yield x\n",
    "\n",
    "val l = List('a, 'b, 'c, 'd, 'e, 'f, 'g, 'h, 'i, 'j, 'k)\n",
    "drop(3)(l)\n",
    "dropRec(3)(l)\n",
    "dropTailRec(3)(l)\n",
    "\n",
    "val l2 = (1 to 1000).toList\n",
    "time (drop(3)(l2))._2 // unnecessary zipWithIndex\n",
    "time (dropRec(3)(l2))._2 // Limited by stack size\n",
    "time (dropTailRec(3)(l2))._2 // Right implementation"
   ]
  },
  {
   "cell_type": "markdown",
   "metadata": {},
   "source": [
    "### 17\\.  Split a list into two parts.\n",
    "The length of the first part is given. Use a Tuple for your result.j"
   ]
  },
  {
   "cell_type": "code",
   "execution_count": 60,
   "metadata": {},
   "outputs": [
    {
     "data": {
      "text/plain": [
       "defined \u001b[32mfunction\u001b[39m \u001b[36msplit\u001b[39m\n",
       "defined \u001b[32mfunction\u001b[39m \u001b[36msplitTailRec\u001b[39m\n",
       "\u001b[36mres59_2\u001b[39m: (\u001b[32mList\u001b[39m[\u001b[32mSymbol\u001b[39m], \u001b[32mList\u001b[39m[\u001b[32mSymbol\u001b[39m]) = (\u001b[33mList\u001b[39m(\u001b[32m'a\u001b[39m, \u001b[32m'b\u001b[39m, \u001b[32m'c\u001b[39m), \u001b[33mList\u001b[39m(\u001b[32m'd\u001b[39m, \u001b[32m'e\u001b[39m, \u001b[32m'f\u001b[39m, \u001b[32m'g\u001b[39m, \u001b[32m'h\u001b[39m, \u001b[32m'i\u001b[39m, \u001b[32m'j\u001b[39m, \u001b[32m'k\u001b[39m))\n",
       "\u001b[36mres59_3\u001b[39m: (\u001b[32mList\u001b[39m[\u001b[32mSymbol\u001b[39m], \u001b[32mList\u001b[39m[\u001b[32mSymbol\u001b[39m]) = (\u001b[33mList\u001b[39m(\u001b[32m'a\u001b[39m, \u001b[32m'b\u001b[39m, \u001b[32m'c\u001b[39m), \u001b[33mList\u001b[39m(\u001b[32m'd\u001b[39m, \u001b[32m'e\u001b[39m, \u001b[32m'f\u001b[39m, \u001b[32m'g\u001b[39m, \u001b[32m'h\u001b[39m, \u001b[32m'i\u001b[39m, \u001b[32m'j\u001b[39m, \u001b[32m'k\u001b[39m))\n",
       "\u001b[36mres59_4\u001b[39m: ((\u001b[32mList\u001b[39m[\u001b[32mSymbol\u001b[39m], \u001b[32mList\u001b[39m[\u001b[32mSymbol\u001b[39m]), \u001b[32mconcurrent\u001b[39m.\u001b[32mduration\u001b[39m.\u001b[32mFiniteDuration\u001b[39m) = ((\u001b[33mList\u001b[39m(\u001b[32m'a\u001b[39m, \u001b[32m'b\u001b[39m, \u001b[32m'c\u001b[39m), \u001b[33mList\u001b[39m(\u001b[32m'd\u001b[39m, \u001b[32m'e\u001b[39m, \u001b[32m'f\u001b[39m, \u001b[32m'g\u001b[39m, \u001b[32m'h\u001b[39m, \u001b[32m'i\u001b[39m, \u001b[32m'j\u001b[39m, \u001b[32m'k\u001b[39m)), 34112 nanoseconds)\n",
       "\u001b[36mres59_5\u001b[39m: ((\u001b[32mList\u001b[39m[\u001b[32mSymbol\u001b[39m], \u001b[32mList\u001b[39m[\u001b[32mSymbol\u001b[39m]), \u001b[32mconcurrent\u001b[39m.\u001b[32mduration\u001b[39m.\u001b[32mFiniteDuration\u001b[39m) = ((\u001b[33mList\u001b[39m(\u001b[32m'a\u001b[39m, \u001b[32m'b\u001b[39m, \u001b[32m'c\u001b[39m), \u001b[33mList\u001b[39m(\u001b[32m'd\u001b[39m, \u001b[32m'e\u001b[39m, \u001b[32m'f\u001b[39m, \u001b[32m'g\u001b[39m, \u001b[32m'h\u001b[39m, \u001b[32m'i\u001b[39m, \u001b[32m'j\u001b[39m, \u001b[32m'k\u001b[39m)), 36033 nanoseconds)"
      ]
     },
     "execution_count": 60,
     "metadata": {},
     "output_type": "execute_result"
    }
   ],
   "source": [
    "// Using Built-in method\n",
    "def split[A](n: Int)(l: List[A]): (List[A], List[A]) =\n",
    "    l.splitAt(n)\n",
    "\n",
    "// Tail recursive solution\n",
    "def splitTailRec[A](n: Int)(l: List[A]): (List[A], List[A]) = {\n",
    "    @annotation.tailrec\n",
    "    def inner(i: Int, innerList: List[A], acc1: List[A],\n",
    "              acc2: List[A]): (List[A], List[A]) = innerList match {\n",
    "        case x::xs if i < n => inner(i+1, xs, x +: acc1, acc2)\n",
    "        case x::xs => inner(i+1, xs, acc1, x +: acc2)\n",
    "        case _ => acc1.reverse -> acc2.reverse\n",
    "    }\n",
    "    inner(0, l, List.empty, List.empty)\n",
    "}\n",
    "\n",
    "split(3)(List('a, 'b, 'c, 'd, 'e, 'f, 'g, 'h, 'i, 'j, 'k))\n",
    "splitTailRec(3)(List('a, 'b, 'c, 'd, 'e, 'f, 'g, 'h, 'i, 'j, 'k))\n",
    "\n",
    "// Not relevant performance difference \n",
    "time { split(3)(List('a, 'b, 'c, 'd, 'e, 'f, 'g, 'h, 'i, 'j, 'k)) }\n",
    "time { splitTailRec(3)(List('a, 'b, 'c, 'd, 'e, 'f, 'g, 'h, 'i, 'j, 'k)) }"
   ]
  },
  {
   "cell_type": "markdown",
   "metadata": {},
   "source": [
    "## 18\\. Extract a slice from a list.\n",
    "Given two indices, I and K, the slice is the list containing the elements from and including the Ith element up to but not including the Kth element of the original list. Start counting the elements with 0."
   ]
  },
  {
   "cell_type": "code",
   "execution_count": 72,
   "metadata": {},
   "outputs": [
    {
     "data": {
      "text/plain": [
       "defined \u001b[32mfunction\u001b[39m \u001b[36mslice\u001b[39m\n",
       "defined \u001b[32mfunction\u001b[39m \u001b[36msliceTailRec\u001b[39m\n",
       "\u001b[36ml\u001b[39m: \u001b[32mList\u001b[39m[\u001b[32mSymbol\u001b[39m] = \u001b[33mList\u001b[39m(\u001b[32m'a\u001b[39m, \u001b[32m'b\u001b[39m, \u001b[32m'c\u001b[39m, \u001b[32m'd\u001b[39m, \u001b[32m'e\u001b[39m, \u001b[32m'f\u001b[39m, \u001b[32m'g\u001b[39m, \u001b[32m'h\u001b[39m, \u001b[32m'i\u001b[39m, \u001b[32m'j\u001b[39m, \u001b[32m'k\u001b[39m)\n",
       "\u001b[36mres71_3\u001b[39m: \u001b[32mList\u001b[39m[\u001b[32mSymbol\u001b[39m] = \u001b[33mList\u001b[39m(\u001b[32m'd\u001b[39m, \u001b[32m'e\u001b[39m, \u001b[32m'f\u001b[39m, \u001b[32m'g\u001b[39m)\n",
       "\u001b[36mres71_4\u001b[39m: \u001b[32mList\u001b[39m[\u001b[32mSymbol\u001b[39m] = \u001b[33mList\u001b[39m(\u001b[32m'd\u001b[39m, \u001b[32m'e\u001b[39m, \u001b[32m'f\u001b[39m, \u001b[32m'g\u001b[39m)\n",
       "\u001b[36mres71_5\u001b[39m: (\u001b[32mList\u001b[39m[\u001b[32mSymbol\u001b[39m], \u001b[32mconcurrent\u001b[39m.\u001b[32mduration\u001b[39m.\u001b[32mFiniteDuration\u001b[39m) = (\u001b[33mList\u001b[39m(\u001b[32m'd\u001b[39m, \u001b[32m'e\u001b[39m, \u001b[32m'f\u001b[39m, \u001b[32m'g\u001b[39m), 8959 nanoseconds)\n",
       "\u001b[36mres71_6\u001b[39m: (\u001b[32mList\u001b[39m[\u001b[32mSymbol\u001b[39m], \u001b[32mconcurrent\u001b[39m.\u001b[32mduration\u001b[39m.\u001b[32mFiniteDuration\u001b[39m) = (\u001b[33mList\u001b[39m(\u001b[32m'd\u001b[39m, \u001b[32m'e\u001b[39m, \u001b[32m'f\u001b[39m, \u001b[32m'g\u001b[39m), 11963 nanoseconds)"
      ]
     },
     "execution_count": 72,
     "metadata": {},
     "output_type": "execute_result"
    }
   ],
   "source": [
    "// Using Built-in method\n",
    "def slice[A](i: Int, j: Int)(l: List[A]): List[A] = l.slice(i, j)\n",
    "\n",
    "// Tail recursive solution\n",
    "def sliceTailRec[A](i: Int, j: Int)(l: List[A]): List[A] = {\n",
    "    @annotation.tailrec\n",
    "    def inner(z: Int, innerList: List[A], accum: List[A]): List[A] =\n",
    "        innerList match {\n",
    "            case x::xs if z >= i && z < j => inner(z+1, xs, x +: accum)\n",
    "            case x::xs if i < j => inner(z+1, xs, accum)\n",
    "            case _ => accum.reverse\n",
    "    }\n",
    "    inner(0, l, List.empty)\n",
    "}\n",
    "\n",
    "val l = List('a, 'b, 'c, 'd, 'e, 'f, 'g, 'h, 'i, 'j, 'k)\n",
    "slice(3, 7)(l)\n",
    "sliceTailRec(3, 7)(l)\n",
    "\n",
    "time { slice(3, 7)(l) } // Slightly higher performance\n",
    "time { sliceTailRec(3, 7)(l) }"
   ]
  },
  {
   "cell_type": "markdown",
   "metadata": {},
   "source": [
    "### 19\\. Rotate a list N places to the left."
   ]
  },
  {
   "cell_type": "code",
   "execution_count": 82,
   "metadata": {},
   "outputs": [
    {
     "data": {
      "text/plain": [
       "defined \u001b[32mfunction\u001b[39m \u001b[36mrotate\u001b[39m\n",
       "\u001b[36mres81_1\u001b[39m: \u001b[32mList\u001b[39m[\u001b[32mSymbol\u001b[39m] = \u001b[33mList\u001b[39m(\u001b[32m'd\u001b[39m, \u001b[32m'e\u001b[39m, \u001b[32m'f\u001b[39m, \u001b[32m'g\u001b[39m, \u001b[32m'h\u001b[39m, \u001b[32m'i\u001b[39m, \u001b[32m'j\u001b[39m, \u001b[32m'k\u001b[39m, \u001b[32m'a\u001b[39m, \u001b[32m'b\u001b[39m, \u001b[32m'c\u001b[39m)\n",
       "\u001b[36mres81_2\u001b[39m: \u001b[32mList\u001b[39m[\u001b[32mSymbol\u001b[39m] = \u001b[33mList\u001b[39m(\u001b[32m'j\u001b[39m, \u001b[32m'k\u001b[39m, \u001b[32m'a\u001b[39m, \u001b[32m'b\u001b[39m, \u001b[32m'c\u001b[39m, \u001b[32m'd\u001b[39m, \u001b[32m'e\u001b[39m, \u001b[32m'f\u001b[39m, \u001b[32m'g\u001b[39m, \u001b[32m'h\u001b[39m, \u001b[32m'i\u001b[39m)"
      ]
     },
     "execution_count": 82,
     "metadata": {},
     "output_type": "execute_result"
    }
   ],
   "source": [
    "def rotate[A](n: Int)(l: List[A]): List[A] = n match {\n",
    "    case 0 => l\n",
    "    case _ => {\n",
    "        val length = l.length\n",
    "        val splitIndex = if (n > 0) n % length else (n % length) + length\n",
    "        val (xs, ys) = l splitAt splitIndex\n",
    "        ys ++ xs\n",
    "    }\n",
    "}\n",
    "\n",
    "rotate(3)(List('a, 'b, 'c, 'd, 'e, 'f, 'g, 'h, 'i, 'j, 'k))\n",
    "rotate(-2)(List('a, 'b, 'c, 'd, 'e, 'f, 'g, 'h, 'i, 'j, 'k))"
   ]
  },
  {
   "cell_type": "code",
   "execution_count": null,
   "metadata": {},
   "outputs": [],
   "source": []
  }
 ],
 "metadata": {
  "kernelspec": {
   "display_name": "Scala",
   "language": "scala",
   "name": "scala"
  },
  "language_info": {
   "codemirror_mode": "text/x-scala",
   "file_extension": ".scala",
   "mimetype": "text/x-scala",
   "name": "scala211",
   "nbconvert_exporter": "script",
   "pygments_lexer": "scala",
   "version": "2.11.11"
  }
 },
 "nbformat": 4,
 "nbformat_minor": 2
}
