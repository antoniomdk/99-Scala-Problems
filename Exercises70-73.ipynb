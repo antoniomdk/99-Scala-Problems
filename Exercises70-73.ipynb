{
 "cells": [
  {
   "cell_type": "markdown",
   "metadata": {},
   "source": [
    "# 99 Scala Exercises (70 to 73)"
   ]
  },
  {
   "cell_type": "markdown",
   "metadata": {},
   "source": [
    "### Multiway Trees ADT"
   ]
  },
  {
   "cell_type": "code",
   "execution_count": 1,
   "metadata": {},
   "outputs": [
    {
     "data": {
      "text/plain": [
       "defined \u001b[32mclass\u001b[39m \u001b[36mMTree\u001b[39m\n",
       "defined \u001b[32mobject\u001b[39m \u001b[36mMTree\u001b[39m"
      ]
     },
     "execution_count": 1,
     "metadata": {},
     "output_type": "execute_result"
    }
   ],
   "source": [
    "case class MTree[+T](value: T, children: List[MTree[T]]) {\n",
    "  def this(value: T) = this(value, List())\n",
    "  override def toString = \"M(\" + value.toString + \" {\" + children.map(_.toString).mkString(\",\") + \"})\"\n",
    "}\n",
    "\n",
    "object MTree {\n",
    "  def apply[T](value: T) = new MTree(value, List())\n",
    "}"
   ]
  },
  {
   "cell_type": "markdown",
   "metadata": {},
   "source": [
    "### 70\\. Count the nodes of a multiway tree.\n",
    "Write a method nodeCount which counts the nodes of a given multiway tree."
   ]
  },
  {
   "cell_type": "code",
   "execution_count": 5,
   "metadata": {},
   "outputs": [
    {
     "data": {
      "text/plain": [
       "defined \u001b[32mfunction\u001b[39m \u001b[36mnodeCount\u001b[39m\n",
       "\u001b[36mres4_1\u001b[39m: \u001b[32mInt\u001b[39m = \u001b[32m2\u001b[39m"
      ]
     },
     "execution_count": 5,
     "metadata": {},
     "output_type": "execute_result"
    }
   ],
   "source": [
    "def nodeCount(mtree: MTree[_]): Int = mtree match {\n",
    "    case MTree(_, c) => 1 + c.map(nodeCount).sum\n",
    "    case _ => 0\n",
    "}\n",
    "\n",
    "nodeCount(MTree('a', List(MTree('f'))))"
   ]
  },
  {
   "cell_type": "markdown",
   "metadata": {},
   "source": [
    "### 71\\. Tree construction from a node string.\n",
    "We suppose that the nodes of a multiway tree contain single characters. In the depth-first order sequence of its nodes, a special character ^ has been inserted whenever, during the tree traversal, the move is a backtrack to the previous level."
   ]
  },
  {
   "cell_type": "code",
   "execution_count": 10,
   "metadata": {},
   "outputs": [
    {
     "data": {
      "text/plain": [
       "defined \u001b[32mfunction\u001b[39m \u001b[36mmTreeToString\u001b[39m\n",
       "\u001b[36mres9_1\u001b[39m: \u001b[32mString\u001b[39m = \u001b[32m\"afg^^c^bd^e^^\"\u001b[39m"
      ]
     },
     "execution_count": 10,
     "metadata": {},
     "output_type": "execute_result"
    }
   ],
   "source": [
    "def mTreeToString(mtree: MTree[_]): String = mtree match {\n",
    "    case MTree(v, c) => v.toString + c.map(mTreeToString(_) + '^').mkString(\"\")\n",
    "}\n",
    "\n",
    "mTreeToString(MTree('a', List(MTree('f',List(MTree('g'))), MTree('c'),\n",
    "                                MTree('b', List(MTree('d'), MTree('e'))))))"
   ]
  },
  {
   "cell_type": "markdown",
   "metadata": {},
   "source": [
    "### 72\\. Determine the internal path length of a tree.\n",
    "We define the internal path length of a multiway tree as the total sum of the path lengths from the root to all nodes of the tree. By this definition, the tree in the figure of problem P70 has an internal path length of 9. Write a method internalPathLength to return that sum."
   ]
  },
  {
   "cell_type": "code",
   "execution_count": 11,
   "metadata": {},
   "outputs": [
    {
     "data": {
      "text/plain": [
       "defined \u001b[32mfunction\u001b[39m \u001b[36minternalPathLength\u001b[39m\n",
       "\u001b[36mm\u001b[39m: \u001b[32mMTree\u001b[39m[\u001b[32mChar\u001b[39m] = M(a {M(f {M(g {})}),M(c {}),M(b {M(d {}),M(e {})})})\n",
       "\u001b[36mres10_2\u001b[39m: \u001b[32mInt\u001b[39m = \u001b[32m9\u001b[39m"
      ]
     },
     "execution_count": 11,
     "metadata": {},
     "output_type": "execute_result"
    }
   ],
   "source": [
    "def internalPathLength(mtree: MTree[_], current: Int = 0): Int = mtree match {\n",
    "    case MTree(_, c) => current + c.map(internalPathLength(_, current + 1)).sum\n",
    "}\n",
    "\n",
    "val m = MTree('a', List(MTree('f',List(MTree('g'))), MTree('c'), MTree('b', List(MTree('d'), MTree('e')))))\n",
    "internalPathLength(m)"
   ]
  },
  {
   "cell_type": "markdown",
   "metadata": {},
   "source": [
    "### 73 \\. Lisp-like tree representation.\n",
    "There is a particular notation for multiway trees in Lisp. Lisp is a prominent functional programming language. In Lisp almost everything is a list.\n",
    "Our example tree would be represented in Lisp as (a (f g) c (b d e)). The following pictures give some more examples.\n",
    "![](http://aperiodic.net/phil/scala/s-99/p73.png)\n",
    "Note that in the \"lispy\" notation a node with successors (children) in the tree is always the first element in a list, followed by its children. The \"lispy\" representation of a multiway tree is a sequence of atoms and parentheses '(' and ')', with the atoms separated by spaces. We can represent this syntax as a Scala String. Write a method lispyTree which constructs a \"lispy string\" from an MTree."
   ]
  },
  {
   "cell_type": "code",
   "execution_count": 14,
   "metadata": {},
   "outputs": [
    {
     "data": {
      "text/plain": [
       "defined \u001b[32mfunction\u001b[39m \u001b[36mlispyTree\u001b[39m\n",
       "\u001b[36mres13_1\u001b[39m: \u001b[32mString\u001b[39m = \u001b[32m\"(a (b c))\"\u001b[39m"
      ]
     },
     "execution_count": 14,
     "metadata": {},
     "output_type": "execute_result"
    }
   ],
   "source": [
    "def lispyTree(mtree: MTree[_]): String = mtree match {\n",
    "    case MTree(v, Nil) => v.toString\n",
    "    case MTree(v, c) => \"(\" + v.toString + \" \" + c.map(lispyTree).mkString(\" \") + \")\" \n",
    "}\n",
    "\n",
    "lispyTree(MTree(\"a\", List(MTree(\"b\", List(MTree(\"c\"))))))"
   ]
  }
 ],
 "metadata": {
  "kernelspec": {
   "display_name": "Scala",
   "language": "scala",
   "name": "scala"
  },
  "language_info": {
   "codemirror_mode": "text/x-scala",
   "file_extension": ".scala",
   "mimetype": "text/x-scala",
   "name": "scala211",
   "nbconvert_exporter": "script",
   "pygments_lexer": "scala",
   "version": "2.11.11"
  }
 },
 "nbformat": 4,
 "nbformat_minor": 2
}
