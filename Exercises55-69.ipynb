{
 "cells": [
  {
   "cell_type": "markdown",
   "metadata": {},
   "source": [
    "# 99 Scala Exercises (55 to 69)"
   ]
  },
  {
   "cell_type": "markdown",
   "metadata": {},
   "source": [
    "### Binary Tree ADT"
   ]
  },
  {
   "cell_type": "code",
   "execution_count": 1,
   "metadata": {},
   "outputs": [
    {
     "data": {
      "text/plain": [
       "defined \u001b[32mtrait\u001b[39m \u001b[36mTree\u001b[39m\n",
       "defined \u001b[32mclass\u001b[39m \u001b[36mNode\u001b[39m\n",
       "defined \u001b[32mobject\u001b[39m \u001b[36mEnd\u001b[39m\n",
       "defined \u001b[32mobject\u001b[39m \u001b[36mNode\u001b[39m"
      ]
     },
     "execution_count": 1,
     "metadata": {},
     "output_type": "execute_result"
    }
   ],
   "source": [
    "trait Tree[+T]\n",
    "\n",
    "case class Node[+T](value: T, left: Tree[T], right: Tree[T]) extends Tree[T] {\n",
    "    override def toString = \"T(\" + value.toString + \" \" + left.toString + \" \" + right.toString + \")\"\n",
    "}\n",
    "\n",
    "case object End extends Tree[Nothing] {\n",
    "    override def toString = \".\"\n",
    "}\n",
    "\n",
    "object Node {\n",
    "    def apply[T](value: T): Node[T] = Node(value, End, End)\n",
    "}"
   ]
  },
  {
   "cell_type": "markdown",
   "metadata": {},
   "source": [
    "### 55\\. Construct completely balanced binary trees.\n",
    "In a completely balanced binary tree, the following property holds for every node: The number of nodes in its left subtree and the number of nodes in its right subtree are almost equal, which means their difference is not greater than one.\n",
    "Define an object named Tree. Write a function Tree.cBalanced to construct completely balanced binary trees for a given number of nodes. The function should generate all solutions. The function should take as parameters the number of nodes and a single value to put in all of them."
   ]
  },
  {
   "cell_type": "code",
   "execution_count": 16,
   "metadata": {},
   "outputs": [
    {
     "data": {
      "text/plain": [
       "defined \u001b[32mobject\u001b[39m \u001b[36mTree\u001b[39m\n",
       "\u001b[36mres15_1\u001b[39m: \u001b[32mList\u001b[39m[\u001b[32mTree\u001b[39m[\u001b[32mString\u001b[39m]] = \u001b[33mList\u001b[39m(\n",
       "  T(x T(x . .) T(x . T(x . .))),\n",
       "  T(x T(x . T(x . .)) T(x . .)),\n",
       "  T(x T(x . .) T(x T(x . .) .)),\n",
       "  T(x T(x T(x . .) .) T(x . .))\n",
       ")"
      ]
     },
     "execution_count": 16,
     "metadata": {},
     "output_type": "execute_result"
    }
   ],
   "source": [
    "object Tree {\n",
    "    def cBalanced[A](n: Int, x: A): List[Tree[A]] = n match {\n",
    "        case _ if n < 1 => List(End)\n",
    "        case _ if n % 2 > 0 => {\n",
    "            val subtrees = cBalanced(n / 2, x)\n",
    "            subtrees flatMap { l => subtrees.map(r => Node(x, l, r))}\n",
    "        }\n",
    "        case _ => {\n",
    "            val lsub = cBalanced((n - 1) / 2, x)\n",
    "            val gsub = cBalanced((n - 1) / 2 + 1, x)\n",
    "            lsub flatMap { l =>\n",
    "                gsub.flatMap(g => List(Node(x, l, g), Node(x, g, l)))\n",
    "            }\n",
    "        }\n",
    "    }\n",
    "}\n",
    "\n",
    "Tree.cBalanced(4, \"x\")"
   ]
  },
  {
   "cell_type": "markdown",
   "metadata": {},
   "source": [
    "### 56\\. Symmetric binary trees.\n",
    "Let us call a binary tree symmetric if you can draw a vertical line through the root node and then the right subtree is the mirror image of the left subtree. Add an isSymmetric method to the Tree class to check whether a given binary tree is symmetric. Hint: Write an isMirrorOf method first to check whether one tree is the mirror image of another. We are only interested in the structure, not in the contents of the nodes."
   ]
  },
  {
   "cell_type": "code",
   "execution_count": 17,
   "metadata": {},
   "outputs": [
    {
     "data": {
      "text/plain": [
       "defined \u001b[32mtrait\u001b[39m \u001b[36mTree\u001b[39m\n",
       "defined \u001b[32mobject\u001b[39m \u001b[36mEnd\u001b[39m\n",
       "defined \u001b[32mclass\u001b[39m \u001b[36mNode\u001b[39m\n",
       "defined \u001b[32mobject\u001b[39m \u001b[36mNode\u001b[39m\n",
       "\u001b[36mres16_4\u001b[39m: \u001b[32mBoolean\u001b[39m = \u001b[32mtrue\u001b[39m"
      ]
     },
     "execution_count": 17,
     "metadata": {},
     "output_type": "execute_result"
    }
   ],
   "source": [
    "trait Tree[+T] { \n",
    "    // NEW METHOD\n",
    "    def isMirrorOf[A](other: Tree[A]): Boolean = (this, other) match {\n",
    "        case (End, End) => true\n",
    "        case (Node(_, l1, r1), Node(_, l2, r2)) => (l1 isMirrorOf r2) && (r1 isMirrorOf l2)\n",
    "        case _ => false\n",
    "    }\n",
    "    // NEW METHOD\n",
    "    def isSymmetric(): Boolean = this match {\n",
    "        case Node(_, l, r) => l isMirrorOf r\n",
    "        case _ => true\n",
    "    }\n",
    "}\n",
    "\n",
    "final case object End extends Tree[Nothing] {\n",
    "    override def toString = \".\"\n",
    "}\n",
    "\n",
    "final case class Node[+T](value: T, left: Tree[T], right: Tree[T]) extends Tree[T] {\n",
    "    override def toString = \"T(\" + value.toString + \" \" + left.toString + \" \" + right.toString + \")\"\n",
    "}\n",
    "\n",
    "object Node {\n",
    "    def apply[T](value: T): Node[T] = Node(value, End, End)\n",
    "}\n",
    "\n",
    "Node('a', Node('b'), Node('c')).isSymmetric"
   ]
  },
  {
   "cell_type": "code",
   "execution_count": null,
   "metadata": {},
   "outputs": [],
   "source": []
  },
  {
   "cell_type": "markdown",
   "metadata": {},
   "source": [
    "### 57. Binary search trees (dictionaries).\n",
    "Write a function to add an element to a binary search tree.\n",
    "Hint: The abstract definition of addValue in Tree should be def addValue[U >: T <% Ordered[U]](x: U): Tree[U]. The >: T is because addValue's parameters need to be contravariant in T. (Conceptually, we're adding nodes above existing nodes. In order for the subnodes to be of type T or any subtype, the upper nodes must be of type T or any supertype.) The <% Ordered[U] allows us to use the < operator on the values in the tree."
   ]
  },
  {
   "cell_type": "code",
   "execution_count": 18,
   "metadata": {},
   "outputs": [
    {
     "data": {
      "text/plain": [
       "defined \u001b[32mtrait\u001b[39m \u001b[36mTree\u001b[39m\n",
       "defined \u001b[32mobject\u001b[39m \u001b[36mEnd\u001b[39m\n",
       "defined \u001b[32mclass\u001b[39m \u001b[36mNode\u001b[39m\n",
       "defined \u001b[32mobject\u001b[39m \u001b[36mNode\u001b[39m\n",
       "defined \u001b[32mobject\u001b[39m \u001b[36mTree\u001b[39m"
      ]
     },
     "execution_count": 18,
     "metadata": {},
     "output_type": "execute_result"
    }
   ],
   "source": [
    "trait Tree[+T] {\n",
    "    def cBalanced[A](n: Int, x: A): List[Tree[A]] = n match {\n",
    "        case _ if n < 1 => List(End)\n",
    "        case _ if n % 2 > 0 => {\n",
    "            val subtrees = cBalanced(n / 2, x)\n",
    "            subtrees flatMap { l => subtrees.map(r => Node(x, l, r))}\n",
    "        }\n",
    "        case _ => {\n",
    "            val lsub = cBalanced((n - 1) / 2, x)\n",
    "            val gsub = cBalanced((n - 1) / 2 + 1, x)\n",
    "            lsub flatMap { l =>\n",
    "                gsub.flatMap(g => List(Node(x, l, g), Node(x, g, l)))\n",
    "            }\n",
    "        }\n",
    "    }\n",
    "    \n",
    "    def isMirrorOf[A](other: Tree[A]): Boolean = (this, other) match {\n",
    "        case (End, End) => true\n",
    "        case (Node(_, l1, r1), Node(_, l2, r2)) => (l1 isMirrorOf r2) && (r1 isMirrorOf l2)\n",
    "        case _ => false\n",
    "    }\n",
    "    \n",
    "    def isSymmetric(): Boolean = this match {\n",
    "        case Node(_, l, r) => l isMirrorOf r\n",
    "        case _ => true\n",
    "    }\n",
    "    \n",
    "    // NEW METHOD\n",
    "    def addValue[U >: T <% Ordered[U]](x: U): Tree[U] = this match {\n",
    "        case End => Node(x)\n",
    "        case Node(y, l, r) =>\n",
    "            if (x < y) Node(y, l.addValue(x), r) else Node(y, l, r.addValue(x)) \n",
    "    }\n",
    "}\n",
    "\n",
    "final case object End extends Tree[Nothing] {\n",
    "    override def toString = \".\"\n",
    "}\n",
    "\n",
    "final case class Node[+T](value: T, left: Tree[T], right: Tree[T]) extends Tree[T] {\n",
    "    override def toString = \"T(\" + value.toString + \" \" + left.toString + \" \" + right.toString + \")\"\n",
    "}\n",
    "\n",
    "object Node {\n",
    "    def apply[T](value: T): Node[T] = Node(value, End, End)\n",
    "}\n",
    "\n",
    "object Tree {\n",
    "    def cBalanced[A](n: Int, x: A): List[Tree[A]] = n match {\n",
    "        case _ if n < 1 => List(End)\n",
    "        case _ if n % 2 > 0 => {\n",
    "            val subtrees = cBalanced(n / 2, x)\n",
    "            subtrees flatMap { l => subtrees.map(r => Node(x, l, r))}\n",
    "        }\n",
    "        case _ => {\n",
    "            val lsub = cBalanced((n - 1) / 2, x)\n",
    "            val gsub = cBalanced((n - 1) / 2 + 1, x)\n",
    "            lsub flatMap { l =>\n",
    "                gsub.flatMap(g => List(Node(x, l, g), Node(x, g, l)))\n",
    "            }\n",
    "        }\n",
    "    }\n",
    "    \n",
    "    def fromList[A <% Ordered[A]](la: List[A]): Tree[A] =\n",
    "        la.foldLeft[Tree[A]](End) { (tree, x) => tree.addValue(x) }\n",
    "}"
   ]
  },
  {
   "cell_type": "markdown",
   "metadata": {},
   "source": [
    "Use that function to construct a binary tree from a list of integers.\n",
    "Finally, use that function to test your solution to P56."
   ]
  },
  {
   "cell_type": "code",
   "execution_count": 19,
   "metadata": {},
   "outputs": [
    {
     "data": {
      "text/plain": [
       "\u001b[36mres18_0\u001b[39m: \u001b[32mTree\u001b[39m[\u001b[32mInt\u001b[39m] = T(3 T(2 T(1 . .) .) T(5 . T(7 . .)))\n",
       "\u001b[36mres18_1\u001b[39m: \u001b[32mBoolean\u001b[39m = \u001b[32mtrue\u001b[39m\n",
       "\u001b[36mres18_2\u001b[39m: \u001b[32mBoolean\u001b[39m = \u001b[32mfalse\u001b[39m"
      ]
     },
     "execution_count": 19,
     "metadata": {},
     "output_type": "execute_result"
    }
   ],
   "source": [
    "Tree.fromList(List(3, 2, 5, 7, 1))\n",
    "Tree.fromList(List(5, 3, 18, 1, 4, 12, 21)).isSymmetric\n",
    "Tree.fromList(List(3, 2, 5, 7, 4)).isSymmetric"
   ]
  },
  {
   "cell_type": "markdown",
   "metadata": {},
   "source": [
    "### 58\\. Generate-and-test paradigm.\n",
    "Apply the generate-and-test paradigm to construct all symmetric, completely balanced binary trees with a given number of nodes."
   ]
  },
  {
   "cell_type": "code",
   "execution_count": 20,
   "metadata": {},
   "outputs": [
    {
     "data": {
      "text/plain": [
       "defined \u001b[32mfunction\u001b[39m \u001b[36msymmetricBalancedTrees\u001b[39m\n",
       "\u001b[36mres19_1\u001b[39m: \u001b[32mList\u001b[39m[\u001b[32mTree\u001b[39m[\u001b[32mString\u001b[39m]] = \u001b[33mList\u001b[39m(T(x T(x . T(x . .)) T(x T(x . .) .)), T(x T(x T(x . .) .) T(x . T(x . .))))"
      ]
     },
     "execution_count": 20,
     "metadata": {},
     "output_type": "execute_result"
    }
   ],
   "source": [
    "def symmetricBalancedTrees[A <% Ordered[A]](n: Int, x: A): List[Tree[A]] =\n",
    "     Tree.cBalanced(n, x).filter(_.isSymmetric)\n",
    "\n",
    "symmetricBalancedTrees(5, \"x\")"
   ]
  },
  {
   "cell_type": "markdown",
   "metadata": {},
   "source": [
    "### 59\\. Construct height-balanced binary trees.\n",
    "In a height-balanced binary tree, the following property holds for every node: The height of its left subtree and the height of its right subtree are almost equal, which means their difference is not greater than one.\n",
    "Write a method Tree.hbalTrees to construct height-balanced binary trees for a given height with a supplied value for the nodes. The function should generate all solutions."
   ]
  },
  {
   "cell_type": "code",
   "execution_count": 21,
   "metadata": {},
   "outputs": [
    {
     "data": {
      "text/plain": [
       "defined \u001b[32mfunction\u001b[39m \u001b[36mhbalTrees\u001b[39m\n",
       "\u001b[36mres20_1\u001b[39m: \u001b[32mList\u001b[39m[\u001b[32mTree\u001b[39m[\u001b[32mString\u001b[39m]] = \u001b[33mList\u001b[39m(\n",
       "  T(x T(x T(x . .) T(x . .)) T(x T(x . .) T(x . .))),\n",
       "  T(x T(x T(x . .) T(x . .)) T(x T(x . .) .)),\n",
       "  T(x T(x T(x . .) T(x . .)) T(x . T(x . .))),\n",
       "  T(x T(x T(x . .) .) T(x T(x . .) T(x . .))),\n",
       "  T(x T(x T(x . .) .) T(x T(x . .) .)),\n",
       "  T(x T(x T(x . .) .) T(x . T(x . .))),\n",
       "  T(x T(x . T(x . .)) T(x T(x . .) T(x . .))),\n",
       "  T(x T(x . T(x . .)) T(x T(x . .) .)),\n",
       "  T(x T(x . T(x . .)) T(x . T(x . .))),\n",
       "  T(x T(x T(x . .) T(x . .)) T(x . .)),\n",
       "  T(x T(x . .) T(x T(x . .) T(x . .))),\n",
       "\u001b[33m...\u001b[39m"
      ]
     },
     "execution_count": 21,
     "metadata": {},
     "output_type": "execute_result"
    }
   ],
   "source": [
    "def hbalTrees[A](height: Int, x: A): List[Tree[A]] = height match {\n",
    "    case 0 => List(End)\n",
    "    case 1 => List(Node(x))\n",
    "    case h => {\n",
    "        val subtrees = hbalTrees(height - 1, x)\n",
    "        val short = hbalTrees(height - 2, x)\n",
    "        (for (l <- subtrees; r <- subtrees) yield Node(x, l, r)) :::\n",
    "        (for (f <- subtrees; s <- short; n <- List(Node(x, f, s), Node(x, s, f))) yield n)\n",
    "    }\n",
    "}\n",
    "\n",
    "hbalTrees(3, \"x\")"
   ]
  },
  {
   "cell_type": "markdown",
   "metadata": {},
   "source": [
    "### 60\\. Construct height-balanced binary trees with a given number of nodes.\n",
    "Consider a height-balanced binary tree of height H. What is the maximum number of nodes it can contain? Clearly, MaxN = 2^H - 1. However, what is the minimum number MinN? This question is more difficult. Try to find a recursive statement and turn it into a function minHbalNodes that takes a height and returns MinN."
   ]
  },
  {
   "cell_type": "code",
   "execution_count": 22,
   "metadata": {},
   "outputs": [
    {
     "data": {
      "text/plain": [
       "defined \u001b[32mfunction\u001b[39m \u001b[36mminHbalNodes\u001b[39m\n",
       "defined \u001b[32mfunction\u001b[39m \u001b[36mminHbalHeight\u001b[39m\n",
       "defined \u001b[32mfunction\u001b[39m \u001b[36mmaxHbalHeight\u001b[39m\n",
       "defined \u001b[32mfunction\u001b[39m \u001b[36mcountNodes\u001b[39m\n",
       "defined \u001b[32mfunction\u001b[39m \u001b[36mhbalTreesWithNodes\u001b[39m\n",
       "\u001b[36mres21_5\u001b[39m: \u001b[32mList\u001b[39m[\u001b[32mTree\u001b[39m[\u001b[32mString\u001b[39m]] = \u001b[33mList\u001b[39m(\n",
       "  T(x T(x T(x . .) .) T(x . .)),\n",
       "  T(x T(x . .) T(x T(x . .) .)),\n",
       "  T(x T(x . T(x . .)) T(x . .)),\n",
       "  T(x T(x . .) T(x . T(x . .)))\n",
       ")"
      ]
     },
     "execution_count": 22,
     "metadata": {},
     "output_type": "execute_result"
    }
   ],
   "source": [
    "def minHbalNodes(h: Int): Int = h match {\n",
    "    case _ if h < 1 => 0\n",
    "    case 1 => 1\n",
    "    case x => 1 + minHbalNodes(h-1) + minHbalNodes(h-2)\n",
    "}\n",
    "\n",
    "def minHbalHeight(n: Int): Int = n match {\n",
    "    case _ if n < 1 => 0\n",
    "    case 1 => 1\n",
    "    case x => 1 + maxHbalHeight(n / 2)\n",
    "}\n",
    "\n",
    "def maxHbalHeight(n: Int): Int =\n",
    "    Stream.from(1).takeWhile(minHbalNodes(_) <= n).last\n",
    "\n",
    "def countNodes(tree: Tree[_]): Int = tree match {\n",
    "    case End => 0\n",
    "    case Node(_, l, r) => countNodes(l) + countNodes(r) + 1\n",
    "}\n",
    "    \n",
    "def hbalTreesWithNodes[A](n: Int, x: A): List[Tree[A]] = (for {\n",
    "    h <- minHbalHeight(n) to maxHbalHeight(n)\n",
    "    t <- hbalTrees(h, x) if countNodes(t) == n\n",
    "} yield t).toList\n",
    "\n",
    "hbalTreesWithNodes(4, \"x\")"
   ]
  },
  {
   "cell_type": "markdown",
   "metadata": {},
   "source": [
    "### 61\\. Count the leaves of a binary tree.\n",
    "A leaf is a node with no successors. Write a method leafCount to count them."
   ]
  },
  {
   "cell_type": "code",
   "execution_count": 23,
   "metadata": {},
   "outputs": [
    {
     "data": {
      "text/plain": [
       "defined \u001b[32mfunction\u001b[39m \u001b[36mleafCount\u001b[39m\n",
       "\u001b[36mres22_1\u001b[39m: \u001b[32mInt\u001b[39m = \u001b[32m1\u001b[39m"
      ]
     },
     "execution_count": 23,
     "metadata": {},
     "output_type": "execute_result"
    }
   ],
   "source": [
    "def leafCount(tree: Tree[_]): Int = tree match {\n",
    "    case End => 0\n",
    "    case Node(_, End, End) => 1\n",
    "    case Node(_, l, r) => leafCount(l) + leafCount(r)\n",
    "}\n",
    "\n",
    "leafCount(Node('x', Node('x'), End))"
   ]
  },
  {
   "cell_type": "markdown",
   "metadata": {},
   "source": [
    "#### Collect the leaves of a binary tree in a list.\n",
    "A leaf is a node with no successors. Write a method leafList to collect them in a list."
   ]
  },
  {
   "cell_type": "code",
   "execution_count": 24,
   "metadata": {},
   "outputs": [
    {
     "data": {
      "text/plain": [
       "defined \u001b[32mfunction\u001b[39m \u001b[36mleafList\u001b[39m\n",
       "\u001b[36mres23_1\u001b[39m: \u001b[32mList\u001b[39m[\u001b[32mChar\u001b[39m] = \u001b[33mList\u001b[39m(\u001b[32m'b'\u001b[39m, \u001b[32m'd'\u001b[39m, \u001b[32m'e'\u001b[39m)"
      ]
     },
     "execution_count": 24,
     "metadata": {},
     "output_type": "execute_result"
    }
   ],
   "source": [
    "def leafList[A](tree: Tree[A]): List[A] = tree match {\n",
    "    case End => Nil\n",
    "    case Node(value, End, End) => List(value)\n",
    "    case Node(_, l, r) => leafList(l) ++ leafList(r)\n",
    "}\n",
    "\n",
    "leafList(Node('a', Node('b'), Node('c', Node('d'), Node('e'))))"
   ]
  },
  {
   "cell_type": "markdown",
   "metadata": {},
   "source": [
    "### 62\\. Collect the internal nodes of a binary tree in a list.\n",
    "An internal node of a binary tree has either one or two non-empty successors. Write a method internalList to collect them in a list."
   ]
  },
  {
   "cell_type": "code",
   "execution_count": 25,
   "metadata": {},
   "outputs": [
    {
     "data": {
      "text/plain": [
       "defined \u001b[32mfunction\u001b[39m \u001b[36minternalList\u001b[39m\n",
       "\u001b[36mres24_1\u001b[39m: \u001b[32mList\u001b[39m[\u001b[32mChar\u001b[39m] = \u001b[33mList\u001b[39m(\u001b[32m'a'\u001b[39m, \u001b[32m'c'\u001b[39m)"
      ]
     },
     "execution_count": 25,
     "metadata": {},
     "output_type": "execute_result"
    }
   ],
   "source": [
    "def internalList[A](tree: Tree[A]): List[A] = tree match {\n",
    "    case End | Node(_, End, End) => Nil\n",
    "    case Node(value, l, r) => value +: (internalList(l) ++ internalList(r))\n",
    "}\n",
    "\n",
    "internalList(Node('a', Node('b'), Node('c', Node('d'), Node('e'))))"
   ]
  },
  {
   "cell_type": "markdown",
   "metadata": {},
   "source": [
    "#### Collect the nodes at a given level in a list.\n",
    "A node of a binary tree is at level N if the path from the root to the node has length N-1. The root node is at level 1. Write a method atLevel to collect all nodes at a given level in a list."
   ]
  },
  {
   "cell_type": "code",
   "execution_count": 26,
   "metadata": {},
   "outputs": [
    {
     "data": {
      "text/plain": [
       "defined \u001b[32mfunction\u001b[39m \u001b[36matLevel\u001b[39m\n",
       "\u001b[36mres25_1\u001b[39m: \u001b[32mList\u001b[39m[\u001b[32mChar\u001b[39m] = \u001b[33mList\u001b[39m(\u001b[32m'b'\u001b[39m, \u001b[32m'c'\u001b[39m)"
      ]
     },
     "execution_count": 26,
     "metadata": {},
     "output_type": "execute_result"
    }
   ],
   "source": [
    "def atLevel[A](level: Int, tree: Tree[A]): List[A] = tree match {\n",
    "    case End | _ if level < 1 => Nil\n",
    "    case Node(value, l, r) if level == 1 => List(value)\n",
    "    case Node(_, l, r) if level > 1 => atLevel(level - 1, l) ++ atLevel(level - 1, r)\n",
    "}\n",
    "\n",
    "atLevel(2, Node('a', Node('b'), Node('c', Node('d'), Node('e'))))"
   ]
  },
  {
   "cell_type": "markdown",
   "metadata": {},
   "source": [
    "### 63\\. Construct a complete binary tree.\n",
    "A complete binary tree with height H is defined as follows: The levels 1,2,3,...,H-1 contain the maximum number of nodes (i.e 2(i-1) at the level i, note that we start counting the levels from 1 at the root). In level H, which may contain less than the maximum possible number of nodes, all the nodes are \"left-adjusted\". This means that in a levelorder tree traversal all internal nodes come first, the leaves come second, and empty successors (the Ends which are not really nodes!) come last.\n",
    "Particularly, complete binary trees are used as data structures (or addressing schemes) for heaps.\n",
    "\n",
    "We can assign an address number to each node in a complete binary tree by enumerating the nodes in levelorder, starting at the root with number 1. In doing so, we realize that for every node X with address A the following property holds: The address of X's left and right successors are 2*A and 2*A+1, respectively, supposed the successors do exist. This fact can be used to elegantly construct a complete binary tree structure. Write a method completeBinaryTree that takes as parameters the number of nodes and the value to put in each node."
   ]
  },
  {
   "cell_type": "code",
   "execution_count": 27,
   "metadata": {},
   "outputs": [
    {
     "data": {
      "text/plain": [
       "defined \u001b[32mfunction\u001b[39m \u001b[36mcompleteBinaryTree\u001b[39m\n",
       "\u001b[36mres26_1\u001b[39m: \u001b[32mTree\u001b[39m[\u001b[32mString\u001b[39m] = T(x T(x T(x . .) T(x . .)) T(x T(x . .) .))"
      ]
     },
     "execution_count": 27,
     "metadata": {},
     "output_type": "execute_result"
    }
   ],
   "source": [
    "def completeBinaryTree[A](nodes: Int, value: A): Tree[A] = nodes match {\n",
    "    case 0 => End\n",
    "    case 1 => Node(value, End, End)\n",
    "    case 2 => Node(value, completeBinaryTree(1, value), End)\n",
    "    case x => {\n",
    "        val l = completeBinaryTree(x / 2, value)\n",
    "        val r = completeBinaryTree((x - 1) / 2, value)\n",
    "        Node(value, l, r)\n",
    "    }\n",
    "}\n",
    "\n",
    "completeBinaryTree(6, \"x\")"
   ]
  },
  {
   "cell_type": "markdown",
   "metadata": {},
   "source": [
    "### 64\\. Layout a binary tree (1).\n",
    "As a preparation for drawing a tree, a layout algorithm is required to determine the position of each node in a rectangular grid. Several layout methods are conceivable, one of them is shown in the illustration on the right.\n",
    "\n",
    "In this layout strategy, the position of a node v is obtained by the following two rules:\n",
    "\n",
    "x(v) is equal to the position of the node v in the inorder sequence\n",
    "y(v) is equal to the depth of the node v in the tree\n",
    "In order to store the position of the nodes, we add a new class with the additional information."
   ]
  },
  {
   "cell_type": "code",
   "execution_count": 28,
   "metadata": {},
   "outputs": [
    {
     "data": {
      "text/plain": [
       "defined \u001b[32mclass\u001b[39m \u001b[36mPositionedNode\u001b[39m"
      ]
     },
     "execution_count": 28,
     "metadata": {},
     "output_type": "execute_result"
    }
   ],
   "source": [
    "case class PositionedNode[+T](val value: T,\n",
    "                              val left: Tree[T],\n",
    "                              val right: Tree[T],\n",
    "                              x: Int, y: Int) extends Tree[T] {\n",
    "    override def toString = \"T[\" + x.toString + \",\" + y.toString + \"](\" + value.toString + \" \" + left.toString + \" \" + right.toString + \")\"\n",
    "}"
   ]
  },
  {
   "cell_type": "code",
   "execution_count": 29,
   "metadata": {},
   "outputs": [
    {
     "data": {
      "text/plain": [
       "defined \u001b[32mfunction\u001b[39m \u001b[36mlayoutBinaryTree\u001b[39m"
      ]
     },
     "execution_count": 29,
     "metadata": {},
     "output_type": "execute_result"
    }
   ],
   "source": [
    "def layoutBinaryTree[A](tree: Tree[A]): Tree[A] = {\n",
    "    def inner(t: Tree[A], d: Int = 1, x: Int = 1): (Tree[A], Int) = t match {\n",
    "        case Node(v, l, r) => {\n",
    "            val (lt, myX) = inner(l, d + 1, x)\n",
    "            val (rt, nextX) = inner(r, d + 1, myX + 1)\n",
    "            PositionedNode(v, lt, rt, myX, d) -> nextX\n",
    "        }\n",
    "        case _ => End -> x\n",
    "    }\n",
    "    inner(tree)._1\n",
    "}"
   ]
  },
  {
   "cell_type": "code",
   "execution_count": 30,
   "metadata": {},
   "outputs": [
    {
     "data": {
      "text/plain": [
       "\u001b[36mres29\u001b[39m: \u001b[32mTree\u001b[39m[\u001b[32mChar\u001b[39m] = T[3,1](a T[1,2](b . T[2,3](c . .)) T[4,2](d . .))"
      ]
     },
     "execution_count": 30,
     "metadata": {},
     "output_type": "execute_result"
    }
   ],
   "source": [
    "layoutBinaryTree(Node('a', Node('b', End, Node('c')), Node('d')))"
   ]
  },
  {
   "cell_type": "markdown",
   "metadata": {},
   "source": [
    "### 65\\. Layout a binary tree (2).\n",
    "An alternative layout method is depicted in the illustration opposite. Find out the rules and write the corresponding method. Hint: On a given level, the horizontal distance between neighboring nodes is constant.\n",
    "Use the same conventions as in problem P64."
   ]
  },
  {
   "cell_type": "code",
   "execution_count": 34,
   "metadata": {},
   "outputs": [
    {
     "data": {
      "text/plain": [
       "defined \u001b[32mfunction\u001b[39m \u001b[36mtreeDepth\u001b[39m\n",
       "defined \u001b[32mfunction\u001b[39m \u001b[36mleftmostNodeDepth\u001b[39m\n",
       "defined \u001b[32mfunction\u001b[39m \u001b[36mlayoutBinaryTree2\u001b[39m\n",
       "\u001b[36mres33_3\u001b[39m: \u001b[32mTree\u001b[39m[\u001b[32mChar\u001b[39m] = T[3,1](a T[1,2](b . T[2,3](c . .)) T[5,2](d . .))"
      ]
     },
     "execution_count": 34,
     "metadata": {},
     "output_type": "execute_result"
    }
   ],
   "source": [
    "def treeDepth(tree: Tree[_]): Int = tree match {\n",
    "    case Node(_, l, r) => 1 + (treeDepth(l) max treeDepth(r))\n",
    "    case End => 0\n",
    "}\n",
    "\n",
    "def leftmostNodeDepth(tree: Tree[_]): Int = tree match {\n",
    "    case Node(_, l, r) => 1 + leftmostNodeDepth(l)\n",
    "    case End => 0\n",
    "}\n",
    "\n",
    "def layoutBinaryTree2[A](tree: Tree[A]): Tree[A] = {\n",
    "    def inner(t: Tree[A], d: Int = 1, x: Int = 1, exp: Int): Tree[A] = t match {\n",
    "        case Node(v, l, r) => {\n",
    "            val pnl = inner(l, d + 1, x - Math.pow(2, exp).toInt, exp - 1)\n",
    "            val pnr = inner(r, d + 1, x + Math.pow(2, exp).toInt, exp - 1)\n",
    "            PositionedNode(v, pnl, pnr, x, d)\n",
    "        }\n",
    "        case _ => End\n",
    "    }\n",
    "    val d = treeDepth(tree)\n",
    "    val x0 = 1 + (2 to leftmostNodeDepth(tree)).map(x => Math.pow(2, d - x).toInt).reduceLeft(_+_)\n",
    "    inner(tree, 1, x0, d - 2)\n",
    "}\n",
    "\n",
    "layoutBinaryTree2(Node('a', Node('b', End, Node('c')), Node('d')))"
   ]
  },
  {
   "cell_type": "markdown",
   "metadata": {},
   "source": [
    "### 67\\. A string representation of binary trees.\n",
    "Somebody represents binary trees as strings of the following type (see example opposite):\n",
    "a(b(d,e),c(,f(g,)))\n",
    "Write a method which generates this string representation, if the tree is given as usual (in Nodes and Ends). Use that method for the Tree class's and subclass's toString methods. Then write a method (on the Tree object) which does this inverse; i.e. given the string representation, construct the tree in the usual form.\n",
    "\n",
    "For simplicity, suppose the information in the nodes is a single letter and there are no spaces in the string."
   ]
  },
  {
   "cell_type": "code",
   "execution_count": 9,
   "metadata": {},
   "outputs": [
    {
     "data": {
      "text/plain": [
       "defined \u001b[32mfunction\u001b[39m \u001b[36mtreeToString\u001b[39m\n",
       "defined \u001b[32mfunction\u001b[39m \u001b[36mtreeFromString\u001b[39m\n",
       "\u001b[36mres8_2\u001b[39m: \u001b[32mString\u001b[39m = \u001b[32m\"a(b(d,e),c(,f(g,)))\"\u001b[39m"
      ]
     },
     "execution_count": 9,
     "metadata": {},
     "output_type": "execute_result"
    }
   ],
   "source": [
    "def treeToString(tree: Tree[_]): String = tree match {\n",
    "    case End => \"\"\n",
    "    case Node(v, End, End) => v.toString\n",
    "    case Node(v, l, r) => v.toString + s\"(${treeToString(l)},${treeToString(r)})\"\n",
    "}\n",
    "\n",
    "def treeFromString(str: String): Tree[Any] = str match {\n",
    "    case \"\" => End\n",
    "    case _  => ???\n",
    "}\n",
    "treeToString(Node('a', Node('b', Node('d'), Node('e')), Node('c', End, Node('f', Node('g'), End))))"
   ]
  },
  {
   "cell_type": "markdown",
   "metadata": {},
   "source": [
    "### 68\\. Preorder and inorder sequences of binary trees.\n",
    "We consider binary trees with nodes that are identified by single lower-case letters, as in the example of problem P67.\n",
    "a) Write methods preorder and inorder that construct the preorder and inorder sequence of a given binary tree, respectively. The results should be lists, e.g. List('a','b','d','e','c','f','g') for the preorder sequence of the example in problem P67."
   ]
  },
  {
   "cell_type": "code",
   "execution_count": 6,
   "metadata": {},
   "outputs": [
    {
     "data": {
      "text/plain": [
       "defined \u001b[32mfunction\u001b[39m \u001b[36minorder\u001b[39m\n",
       "defined \u001b[32mfunction\u001b[39m \u001b[36mpreorder\u001b[39m\n",
       "\u001b[36mtree\u001b[39m: \u001b[32mNode\u001b[39m[\u001b[32mChar\u001b[39m] = T(a T(b T(d . .) T(e . .)) T(c . T(f T(g . .) .)))\n",
       "\u001b[36mres5_3\u001b[39m: \u001b[32mList\u001b[39m[\u001b[32mChar\u001b[39m] = \u001b[33mList\u001b[39m(\u001b[32m'd'\u001b[39m, \u001b[32m'b'\u001b[39m, \u001b[32m'e'\u001b[39m, \u001b[32m'a'\u001b[39m, \u001b[32m'c'\u001b[39m, \u001b[32m'g'\u001b[39m, \u001b[32m'f'\u001b[39m)\n",
       "\u001b[36mres5_4\u001b[39m: \u001b[32mList\u001b[39m[\u001b[32mChar\u001b[39m] = \u001b[33mList\u001b[39m(\u001b[32m'a'\u001b[39m, \u001b[32m'b'\u001b[39m, \u001b[32m'd'\u001b[39m, \u001b[32m'e'\u001b[39m, \u001b[32m'c'\u001b[39m, \u001b[32m'f'\u001b[39m, \u001b[32m'g'\u001b[39m)"
      ]
     },
     "execution_count": 6,
     "metadata": {},
     "output_type": "execute_result"
    }
   ],
   "source": [
    "def inorder[A](tree: Tree[A]): List[A] = tree match {\n",
    "    case End => Nil\n",
    "    case Node(v, l, r) => (inorder(l) :+ v) ++ inorder(r)\n",
    "}\n",
    "\n",
    "def preorder[A](tree: Tree[A]): List[A] = tree match {\n",
    "    case End => Nil\n",
    "    case Node(v, l, r) => v +: (preorder(l) ++ preorder(r))\n",
    "}\n",
    "\n",
    "val tree = Node('a', Node('b', Node('d'), Node('e')), Node('c', End, Node('f', Node('g'), End)))\n",
    "inorder(tree)\n",
    "preorder(tree)"
   ]
  },
  {
   "cell_type": "markdown",
   "metadata": {},
   "source": [
    "b) If both the preorder sequence and the inorder sequence of the nodes of a binary tree are given, then the tree is determined unambiguously. Write a method preInTree that does the job."
   ]
  },
  {
   "cell_type": "code",
   "execution_count": 11,
   "metadata": {},
   "outputs": [
    {
     "data": {
      "text/plain": [
       "defined \u001b[32mfunction\u001b[39m \u001b[36mpreInTree\u001b[39m\n",
       "\u001b[36mtree\u001b[39m: \u001b[32mTree\u001b[39m[\u001b[32mChar\u001b[39m] = T(a T(b T(d . .) T(e . .)) T(c T(f . .) T(g . .)))\n",
       "\u001b[36mres10_2\u001b[39m: \u001b[32mString\u001b[39m = \u001b[32m\"a(b(d,e),c(f,g))\"\u001b[39m"
      ]
     },
     "execution_count": 11,
     "metadata": {},
     "output_type": "execute_result"
    }
   ],
   "source": [
    "def preInTree[A](preorder: List[A], inorder: List[A]): Tree[A] = preorder match {\n",
    "    case Nil => End\n",
    "    case x::xs => {\n",
    "        val (l, r) = inorder span { _ != x}\n",
    "        Node(x, preInTree(xs.take(l.length), l), preInTree(xs.drop(l.length), r))\n",
    "    }\n",
    "}\n",
    "\n",
    "val tree = preInTree(List('a', 'b', 'd', 'e', 'c', 'f', 'g'), List('d', 'b', 'e', 'a', 'c', 'g', 'f'))\n",
    "treeToString(tree)"
   ]
  },
  {
   "cell_type": "markdown",
   "metadata": {},
   "source": [
    "### 69\\. Dotstring representation of binary trees.\n",
    "We consider again binary trees with nodes that are identified by single lower-case letters, as in the example of problem P67. Such a tree can be represented by the preorder sequence of its nodes in which dots (.) are inserted where an empty subtree (End) is encountered during the tree traversal. For example, the tree shown in problem P67 is represented as \"abd..e..c.fg...\". First, try to establish a syntax (BNF or syntax diagrams) and then write two methods, toDotstring and fromDotstring, which do the conversion in both directions."
   ]
  },
  {
   "cell_type": "code",
   "execution_count": 12,
   "metadata": {},
   "outputs": [
    {
     "data": {
      "text/plain": [
       "defined \u001b[32mfunction\u001b[39m \u001b[36mtoDotString\u001b[39m\n",
       "\u001b[36mtree\u001b[39m: \u001b[32mNode\u001b[39m[\u001b[32mChar\u001b[39m] = T(a T(b T(d . .) T(e . .)) T(c . T(f T(g . .) .)))\n",
       "\u001b[36mres11_2\u001b[39m: \u001b[32mString\u001b[39m = \u001b[32m\"abd..e..c.fg...\"\u001b[39m"
      ]
     },
     "execution_count": 12,
     "metadata": {},
     "output_type": "execute_result"
    }
   ],
   "source": [
    "def toDotString(tree: Tree[_]): String = tree match {\n",
    "    case End => \".\"\n",
    "    case Node(v, l, r) => v.toString + toDotString(l) + toDotString(r)\n",
    "}\n",
    "\n",
    "def fromDotString()\n",
    "val tree = Node('a', Node('b', Node('d'), Node('e')), Node('c', End, Node('f', Node('g'), End)))\n",
    "toDotString(tree)"
   ]
  },
  {
   "cell_type": "code",
   "execution_count": null,
   "metadata": {},
   "outputs": [],
   "source": []
  }
 ],
 "metadata": {
  "kernelspec": {
   "display_name": "Scala",
   "language": "scala",
   "name": "scala"
  },
  "language_info": {
   "codemirror_mode": "text/x-scala",
   "file_extension": ".scala",
   "mimetype": "text/x-scala",
   "name": "scala211",
   "nbconvert_exporter": "script",
   "pygments_lexer": "scala",
   "version": "2.11.11"
  }
 },
 "nbformat": 4,
 "nbformat_minor": 2
}
