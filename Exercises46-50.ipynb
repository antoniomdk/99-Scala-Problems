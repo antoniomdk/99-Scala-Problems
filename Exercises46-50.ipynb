{
 "cells": [
  {
   "cell_type": "markdown",
   "metadata": {},
   "source": [
    "# 99 Scala Exercises (46 to 50)"
   ]
  },
  {
   "cell_type": "markdown",
   "metadata": {},
   "source": [
    "### 46\\. Truth tables for logical expressions.\n",
    "Define functions and, or, nand, nor, xor, impl, and equ (for logical equivalence) which return true or false according to the result of their respective operations; e.g. and(A, B) is true if and only if both A and B are true."
   ]
  },
  {
   "cell_type": "code",
   "execution_count": 4,
   "metadata": {},
   "outputs": [
    {
     "name": "stdout",
     "output_type": "stream",
     "text": [
      "A       B      result\n",
      "True    True   true\n",
      "True    False  true\n",
      "False   True   true\n",
      "False   False  false\n"
     ]
    },
    {
     "data": {
      "text/plain": [
       "\u001b[32mimport \u001b[39m\u001b[36mscalaz.effect.IO._\n",
       "\u001b[39m\n",
       "\u001b[32mimport \u001b[39m\u001b[36mscalaz.effect.IO\n",
       "\n",
       "\u001b[39m\n",
       "defined \u001b[32mfunction\u001b[39m \u001b[36mand\u001b[39m\n",
       "defined \u001b[32mfunction\u001b[39m \u001b[36mor\u001b[39m\n",
       "defined \u001b[32mfunction\u001b[39m \u001b[36mxor\u001b[39m\n",
       "defined \u001b[32mfunction\u001b[39m \u001b[36mnand\u001b[39m\n",
       "defined \u001b[32mfunction\u001b[39m \u001b[36mnor\u001b[39m\n",
       "defined \u001b[32mfunction\u001b[39m \u001b[36mimpl\u001b[39m\n",
       "defined \u001b[32mfunction\u001b[39m \u001b[36mequ\u001b[39m\n",
       "defined \u001b[32mfunction\u001b[39m \u001b[36mnot\u001b[39m\n",
       "defined \u001b[32mfunction\u001b[39m \u001b[36mtable2\u001b[39m"
      ]
     },
     "execution_count": 4,
     "metadata": {},
     "output_type": "execute_result"
    }
   ],
   "source": [
    "import scalaz.effect.IO._\n",
    "import scalaz.effect.IO\n",
    "\n",
    "def and(a: Boolean, b: Boolean): Boolean = a && b\n",
    "def or(a: Boolean, b: Boolean): Boolean = a || b\n",
    "def xor(a: Boolean, b: Boolean): Boolean = a ^ b\n",
    "def nand(a: Boolean, b: Boolean): Boolean = !and(a, b)\n",
    "def nor(a: Boolean, b: Boolean): Boolean = !or(a, b)\n",
    "def impl(a: Boolean, b: Boolean): Boolean = !a || b\n",
    "def equ(a: Boolean, b: Boolean): Boolean = a == b\n",
    "def not(a: Boolean): Boolean = !a\n",
    "\n",
    "def table2(f: (Boolean, Boolean) => Boolean): IO[Unit] = for {\n",
    "    _ <- putStrLn(\"A       B      result\")\n",
    "    _ <- putStrLn(s\"True    True   ${ f(true, true) }\")\n",
    "    _ <- putStrLn(s\"True    False  ${ f(true, false) }\")\n",
    "    _ <- putStrLn(s\"False   True   ${ f(false, true) }\")\n",
    "    _ <- putStrLn(s\"False   False  ${ f(false, false) }\")\n",
    "} yield ()\n",
    "\n",
    "table2(or).unsafePerformIO"
   ]
  },
  {
   "cell_type": "markdown",
   "metadata": {},
   "source": [
    "### 47\\. Truth tables for logical expressions (2).\n",
    "Continue problem P46 by redefining and, or, etc as operators. (i.e. make them methods of a new class with an implicit conversion from Boolean.) not will have to be left as a object method."
   ]
  },
  {
   "cell_type": "code",
   "execution_count": 7,
   "metadata": {},
   "outputs": [
    {
     "name": "stdout",
     "output_type": "stream",
     "text": [
      "A       B      result\n",
      "True    True   true\n",
      "True    False  true\n",
      "False   True   false\n",
      "False   False  false\n"
     ]
    },
    {
     "data": {
      "text/plain": [
       "defined \u001b[32mclass\u001b[39m \u001b[36mBooleanOps\u001b[39m"
      ]
     },
     "execution_count": 7,
     "metadata": {},
     "output_type": "execute_result"
    }
   ],
   "source": [
    "implicit class BooleanOps(val a: Boolean) {\n",
    "    def not(): Boolean = !a\n",
    "    def and(b: Boolean): Boolean = a && b\n",
    "    def or(b: Boolean): Boolean = a || b\n",
    "    def xor(b: Boolean): Boolean = a ^ b\n",
    "    def nand(b: Boolean): Boolean = !(a and b)\n",
    "    def nor(b: Boolean): Boolean = !(a or b)\n",
    "    def impl(b: Boolean): Boolean = !a || b\n",
    "    def equ(b: Boolean): Boolean = a == b\n",
    "}\n",
    "\n",
    "table2((a: Boolean, b: Boolean) => a and (a or not(b))).unsafePerformIO"
   ]
  },
  {
   "cell_type": "markdown",
   "metadata": {},
   "source": [
    "### 49\\. Gray code.\n",
    "An n-bit Gray code is a sequence of n-bit strings constructed according to certain rules. For example,\n",
    "n = 1: C(1) = (\"0\", \"1\").\n",
    "n = 2: C(2) = (\"00\", \"01\", \"11\", \"10\").\n",
    "n = 3: C(3) = (\"000\", \"001\", \"011\", \"010\", \"110\", \"111\", \"101\", \"100\").\n",
    "\n",
    "Find out the construction rules and write a function to generate Gray codes."
   ]
  },
  {
   "cell_type": "code",
   "execution_count": 25,
   "metadata": {},
   "outputs": [
    {
     "data": {
      "text/plain": [
       "defined \u001b[32mclass\u001b[39m \u001b[36mMemoize\u001b[39m\n",
       "\u001b[36mgray\u001b[39m: \u001b[32mwrapper\u001b[39m.\u001b[32mwrapper\u001b[39m.\u001b[32mMemoize\u001b[39m[\u001b[32mInt\u001b[39m, \u001b[32mList\u001b[39m[\u001b[32mString\u001b[39m]] = <function1>\n",
       "\u001b[36mres24_2\u001b[39m: \u001b[32mList\u001b[39m[\u001b[32mString\u001b[39m] = \u001b[33mList\u001b[39m(\u001b[32m\"000\"\u001b[39m, \u001b[32m\"001\"\u001b[39m, \u001b[32m\"011\"\u001b[39m, \u001b[32m\"010\"\u001b[39m, \u001b[32m\"110\"\u001b[39m, \u001b[32m\"111\"\u001b[39m, \u001b[32m\"101\"\u001b[39m, \u001b[32m\"100\"\u001b[39m)"
      ]
     },
     "execution_count": 25,
     "metadata": {},
     "output_type": "execute_result"
    }
   ],
   "source": [
    "// Function wrapper that allow memoization.\n",
    "case class Memoize[A,B](val f: A => B) extends (A => B) {\n",
    "  val cache = collection.mutable.HashMap[A,B]()\n",
    "  def apply(a: A): B = cache getOrElseUpdate(a, f(a))\n",
    "}\n",
    "\n",
    "val gray: Memoize[Int, List[String]] = Memoize { n =>\n",
    "    n match {\n",
    "        case 2 => List(\"00\", \"01\", \"11\", \"10\")\n",
    "        case _ => {\n",
    "            val g = gray(n-1)\n",
    "            g.map(\"0\"+_) ++ g.reverse.map(\"1\"+_)\n",
    "        }\n",
    "    }\n",
    "}\n",
    "\n",
    "gray(3)"
   ]
  },
  {
   "cell_type": "markdown",
   "metadata": {},
   "source": [
    "### Huffman code.\n",
    "First of all, consult a good book on discrete mathematics or algorithms for a detailed description of Huffman codes!\n",
    "We suppose a set of symbols with their frequencies, given as a list of (S, F) Tuples. E.g. ((\"a\", 45), (\"b\", 13), (\"c\", 12), (\"d\", 16), (\"e\", 9), (\"f\", 5)). Our objective is to construct a list of (S, C) Tuples, where C is the Huffman code word for the symbol S."
   ]
  },
  {
   "cell_type": "code",
   "execution_count": 39,
   "metadata": {},
   "outputs": [
    {
     "data": {
      "text/plain": [
       "defined \u001b[32mtrait\u001b[39m \u001b[36mHTree\u001b[39m\n",
       "defined \u001b[32mclass\u001b[39m \u001b[36mHLeaf\u001b[39m\n",
       "defined \u001b[32mclass\u001b[39m \u001b[36mHFork\u001b[39m\n",
       "defined \u001b[32mobject\u001b[39m \u001b[36mHTreeOrdering\u001b[39m\n",
       "defined \u001b[32mfunction\u001b[39m \u001b[36minsertBy\u001b[39m\n",
       "defined \u001b[32mfunction\u001b[39m \u001b[36mbuildTree\u001b[39m\n",
       "defined \u001b[32mfunction\u001b[39m \u001b[36mcodify\u001b[39m\n",
       "defined \u001b[32mfunction\u001b[39m \u001b[36mhuffman\u001b[39m\n",
       "\u001b[36mres38_8\u001b[39m: \u001b[32mOption\u001b[39m[\u001b[32mList\u001b[39m[(\u001b[32mString\u001b[39m, \u001b[32mString\u001b[39m)]] = \u001b[33mSome\u001b[39m(\n",
       "  \u001b[33mList\u001b[39m(\n",
       "    (\u001b[32m\"a\"\u001b[39m, \u001b[32m\"0\"\u001b[39m),\n",
       "    (\u001b[32m\"b\"\u001b[39m, \u001b[32m\"101\"\u001b[39m),\n",
       "    (\u001b[32m\"c\"\u001b[39m, \u001b[32m\"100\"\u001b[39m),\n",
       "    (\u001b[32m\"d\"\u001b[39m, \u001b[32m\"111\"\u001b[39m),\n",
       "    (\u001b[32m\"e\"\u001b[39m, \u001b[32m\"1101\"\u001b[39m),\n",
       "    (\u001b[32m\"f\"\u001b[39m, \u001b[32m\"1100\"\u001b[39m)\n",
       "  )\n",
       ")"
      ]
     },
     "execution_count": 39,
     "metadata": {},
     "output_type": "execute_result"
    }
   ],
   "source": [
    "// Simple binary tree.\n",
    "sealed trait HTree {\n",
    "    def weight(): Int = this match {\n",
    "        case HLeaf(_, f)    => f\n",
    "        case HFork(s, _, _) => s\n",
    "    }\n",
    "    \n",
    "    def merge(other: HTree): HTree =\n",
    "        HFork(this.weight + other.weight, this, other)\n",
    "}\n",
    "\n",
    "final case class HLeaf(s: String, freq: Int) extends HTree\n",
    "final case class HFork(sum: Int, l: HTree, r: HTree) extends HTree\n",
    "\n",
    "implicit object HTreeOrdering extends Ordering[HTree] {\n",
    "    def compare(a: HTree, b: HTree): Int = a.weight compare b.weight\n",
    "}\n",
    "\n",
    "// Insert element in a sorted list.\n",
    "def insertBy[A](l: List[A], x: A)(implicit ord: Ordering[A]): List[A] = {\n",
    "    val (first, last) = l partition { ord.lteq(_, x) }\n",
    "    first:::x::last\n",
    "}\n",
    "\n",
    "def buildTree(sl: List[(String, Int)]): Option[HTree] = {\n",
    "    val nl = sl.sortBy(_._2) map { case (s, f) => HLeaf(s, f) }\n",
    "    @annotation.tailrec\n",
    "    def inner(accum: List[HTree]): Option[HTree] = accum match {\n",
    "        case x::y::xs => inner(insertBy(xs, x merge y))\n",
    "        case x::Nil   => Some(x)\n",
    "        case _        => None\n",
    "    }\n",
    "    inner(nl)\n",
    "}\n",
    "\n",
    "def codify(tree: HTree): List[(String, String)] = {\n",
    "    def inner(tree: HTree, prefix: String): List[(String, String)] = tree match {\n",
    "        case HLeaf(s, _)    => List((s, prefix))\n",
    "        case HFork(_, l, r) => inner(l, prefix + \"0\") ++ inner(r, prefix + \"1\")\n",
    "    }\n",
    "    inner(tree, \"\")\n",
    "}\n",
    "\n",
    "def huffman(sl: List[(String, Int)]): Option[List[(String, String)]] =\n",
    "    buildTree(sl) map(codify(_).sortBy(_._1))\n",
    "\n",
    "huffman(List((\"a\", 45), (\"b\", 13), (\"c\", 12), (\"d\", 16), (\"e\", 9), (\"f\", 5)))"
   ]
  },
  {
   "cell_type": "code",
   "execution_count": null,
   "metadata": {},
   "outputs": [],
   "source": []
  }
 ],
 "metadata": {
  "kernelspec": {
   "display_name": "Scala",
   "language": "scala",
   "name": "scala"
  },
  "language_info": {
   "codemirror_mode": "text/x-scala",
   "file_extension": ".scala",
   "mimetype": "text/x-scala",
   "name": "scala211",
   "nbconvert_exporter": "script",
   "pygments_lexer": "scala",
   "version": "2.11.11"
  }
 },
 "nbformat": 4,
 "nbformat_minor": 2
}
