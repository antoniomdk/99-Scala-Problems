{
 "cells": [
  {
   "cell_type": "markdown",
   "metadata": {},
   "source": [
    "# 99 Scala Exercises (1 to 9)"
   ]
  },
  {
   "cell_type": "markdown",
   "metadata": {},
   "source": [
    "1\\. Find the last element of a list."
   ]
  },
  {
   "cell_type": "code",
   "execution_count": 37,
   "metadata": {},
   "outputs": [
    {
     "data": {
      "text/plain": [
       "defined \u001b[32mfunction\u001b[39m \u001b[36mlast\u001b[39m\n",
       "defined \u001b[32mfunction\u001b[39m \u001b[36mlastRec\u001b[39m\n",
       "\u001b[36mres36_2\u001b[39m: \u001b[32mOption\u001b[39m[\u001b[32mInt\u001b[39m] = \u001b[33mSome\u001b[39m(\u001b[32m8\u001b[39m)\n",
       "\u001b[36mres36_3\u001b[39m: \u001b[32mOption\u001b[39m[\u001b[32mInt\u001b[39m] = \u001b[33mSome\u001b[39m(\u001b[32m8\u001b[39m)"
      ]
     },
     "execution_count": 37,
     "metadata": {},
     "output_type": "execute_result"
    }
   ],
   "source": [
    "// Using Built-in function\n",
    "def last[A](l: List[A]): Option[A] = l.lastOption\n",
    "\n",
    "// Using structural recursion\n",
    "@annotation.tailrec\n",
    "def lastRec[A](l: List[A]): Option[A] = l match {\n",
    "    case x::Nil => Some(x)\n",
    "    case _::xs  => lastRec(xs)\n",
    "    case _      => None\n",
    "} \n",
    "last(List(1, 1, 2, 3, 5, 8))\n",
    "lastRec(List(1, 1, 2, 3, 5, 8))"
   ]
  },
  {
   "cell_type": "markdown",
   "metadata": {},
   "source": [
    "2\\. Find the last but one element of a list."
   ]
  },
  {
   "cell_type": "code",
   "execution_count": 38,
   "metadata": {},
   "outputs": [
    {
     "data": {
      "text/plain": [
       "defined \u001b[32mfunction\u001b[39m \u001b[36mpenultimate\u001b[39m\n",
       "\u001b[36mres37_1\u001b[39m: \u001b[32mOption\u001b[39m[\u001b[32mInt\u001b[39m] = \u001b[33mSome\u001b[39m(\u001b[32m5\u001b[39m)"
      ]
     },
     "execution_count": 38,
     "metadata": {},
     "output_type": "execute_result"
    }
   ],
   "source": [
    "// Using structural recursion\n",
    "@annotation.tailrec\n",
    "def penultimate[A](l: List[A]): Option[A] = l match {\n",
    "   case x::_::Nil => Some(x)\n",
    "   case x::xs => penultimate(xs)\n",
    "   case _ => None\n",
    "}\n",
    "penultimate(List(1, 1, 2, 3, 5, 8))"
   ]
  },
  {
   "cell_type": "markdown",
   "metadata": {},
   "source": [
    "3\\. Find the Kth element of a list."
   ]
  },
  {
   "cell_type": "code",
   "execution_count": 39,
   "metadata": {},
   "outputs": [
    {
     "data": {
      "text/plain": [
       "defined \u001b[32mfunction\u001b[39m \u001b[36mnth\u001b[39m\n",
       "\u001b[36mres38_1\u001b[39m: \u001b[32mOption\u001b[39m[\u001b[32mInt\u001b[39m] = \u001b[33mSome\u001b[39m(\u001b[32m2\u001b[39m)"
      ]
     },
     "execution_count": 39,
     "metadata": {},
     "output_type": "execute_result"
    }
   ],
   "source": [
    "// Using structural recursion\n",
    "@annotation.tailrec\n",
    "def nth[A](n: Int, l: List[A]): Option[A] = l match {\n",
    "  case x::_ if n == 0 => Some(x)\n",
    "  case _::xs => nth(n-1, xs)\n",
    "  case _ => None  \n",
    "}\n",
    "nth(2, List(1, 1, 2, 3, 5, 8))"
   ]
  },
  {
   "cell_type": "markdown",
   "metadata": {},
   "source": [
    "4\\. Find the number of elements of a list."
   ]
  },
  {
   "cell_type": "code",
   "execution_count": 40,
   "metadata": {},
   "outputs": [
    {
     "data": {
      "text/plain": [
       "defined \u001b[32mfunction\u001b[39m \u001b[36mlength\u001b[39m\n",
       "defined \u001b[32mfunction\u001b[39m \u001b[36mlengthRec\u001b[39m\n",
       "defined \u001b[32mfunction\u001b[39m \u001b[36mlengthRecOptimized\u001b[39m\n",
       "\u001b[36mres39_3\u001b[39m: (\u001b[32mInt\u001b[39m, \u001b[32mconcurrent\u001b[39m.\u001b[32mduration\u001b[39m.\u001b[32mFiniteDuration\u001b[39m) = (\u001b[32m6\u001b[39m, 64067 nanoseconds)\n",
       "\u001b[36mres39_4\u001b[39m: (\u001b[32mInt\u001b[39m, \u001b[32mconcurrent\u001b[39m.\u001b[32mduration\u001b[39m.\u001b[32mFiniteDuration\u001b[39m) = (\u001b[32m6\u001b[39m, 61162 nanoseconds)\n",
       "\u001b[36mres39_5\u001b[39m: (\u001b[32mInt\u001b[39m, \u001b[32mconcurrent\u001b[39m.\u001b[32mduration\u001b[39m.\u001b[32mFiniteDuration\u001b[39m) = (\u001b[32m6\u001b[39m, 32502 nanoseconds)"
      ]
     },
     "execution_count": 40,
     "metadata": {},
     "output_type": "execute_result"
    }
   ],
   "source": [
    "// Built-in function\n",
    "def length[A](l: List[A]): Int = l.length\n",
    "    \n",
    "// Structural Recursion\n",
    "def lengthRec[A](l: List[A]): Int = l match {\n",
    "    case _::xs =>  1 + lengthRec(xs)\n",
    "    case Nil   => 0\n",
    "}\n",
    "\n",
    "// Optimized\n",
    "def lengthRecOptimized[A](l: List[A]): Int = {\n",
    "    @annotation.tailrec\n",
    "    def inner[A](l: List[A], accum: Int): Int = l match {\n",
    "        case Nil   => accum\n",
    "        case _::xs => inner(xs, accum + 1)\n",
    "    }\n",
    "    inner(l, 0)\n",
    "}\n",
    "time { length(List(1, 1, 2, 3, 5, 8)) }\n",
    "time { lengthRec(List(1, 1, 2, 3, 5, 8)) }\n",
    "time { lengthRecOptimized(List(1, 1, 2, 3, 5, 8)) }"
   ]
  },
  {
   "cell_type": "markdown",
   "metadata": {},
   "source": [
    "5\\. Reverse List"
   ]
  },
  {
   "cell_type": "code",
   "execution_count": 41,
   "metadata": {},
   "outputs": [
    {
     "data": {
      "text/plain": [
       "defined \u001b[32mfunction\u001b[39m \u001b[36mreverse\u001b[39m\n",
       "defined \u001b[32mfunction\u001b[39m \u001b[36mreverseRec\u001b[39m\n",
       "defined \u001b[32mfunction\u001b[39m \u001b[36mreverseRecOptimized\u001b[39m\n",
       "\u001b[36mres40_3\u001b[39m: (\u001b[32mList\u001b[39m[\u001b[32mInt\u001b[39m], \u001b[32mconcurrent\u001b[39m.\u001b[32mduration\u001b[39m.\u001b[32mFiniteDuration\u001b[39m) = (\u001b[33mList\u001b[39m(\u001b[32m8\u001b[39m, \u001b[32m5\u001b[39m, \u001b[32m3\u001b[39m, \u001b[32m2\u001b[39m, \u001b[32m1\u001b[39m, \u001b[32m1\u001b[39m), 63773 nanoseconds)\n",
       "\u001b[36mres40_4\u001b[39m: (\u001b[32mList\u001b[39m[\u001b[32mInt\u001b[39m], \u001b[32mconcurrent\u001b[39m.\u001b[32mduration\u001b[39m.\u001b[32mFiniteDuration\u001b[39m) = (\u001b[33mList\u001b[39m(\u001b[32m8\u001b[39m, \u001b[32m5\u001b[39m, \u001b[32m3\u001b[39m, \u001b[32m2\u001b[39m, \u001b[32m1\u001b[39m, \u001b[32m1\u001b[39m), 83242 nanoseconds)\n",
       "\u001b[36mres40_5\u001b[39m: (\u001b[32mList\u001b[39m[\u001b[32mInt\u001b[39m], \u001b[32mconcurrent\u001b[39m.\u001b[32mduration\u001b[39m.\u001b[32mFiniteDuration\u001b[39m) = (\u001b[33mList\u001b[39m(\u001b[32m8\u001b[39m, \u001b[32m5\u001b[39m, \u001b[32m3\u001b[39m, \u001b[32m2\u001b[39m, \u001b[32m1\u001b[39m, \u001b[32m1\u001b[39m), 70810 nanoseconds)"
      ]
     },
     "execution_count": 41,
     "metadata": {},
     "output_type": "execute_result"
    }
   ],
   "source": [
    "// Built-in function\n",
    "def reverse[A](l: List[A]): List[A] = l.reverse\n",
    "\n",
    "def reverseRec[A](l: List[A]): List[A] = l match {\n",
    "    case x::xs => reverse(xs) :+ x\n",
    "    case _ => Nil\n",
    "}\n",
    "\n",
    "def reverseRecOptimized[A](l: List[A]): List[A] = {\n",
    "    @annotation.tailrec\n",
    "    def inner[A](l: List[A], accum: List[A]): List[A] = l match {\n",
    "        case x::xs => inner(xs, x +: accum)\n",
    "        case Nil => accum\n",
    "    }\n",
    "    inner(l, List.empty)\n",
    "} \n",
    "\n",
    "time { reverse(List(1, 1, 2, 3, 5, 8)) }\n",
    "time { reverseRec(List(1, 1, 2, 3, 5, 8)) }\n",
    "time { reverseRecOptimized(List(1, 1, 2, 3, 5, 8)) }"
   ]
  },
  {
   "cell_type": "markdown",
   "metadata": {},
   "source": [
    "6\\. Find out whether a list is a palindrome."
   ]
  },
  {
   "cell_type": "code",
   "execution_count": 42,
   "metadata": {},
   "outputs": [
    {
     "data": {
      "text/plain": [
       "defined \u001b[32mfunction\u001b[39m \u001b[36misPalindrome\u001b[39m\n",
       "\u001b[36mres41_1\u001b[39m: \u001b[32mBoolean\u001b[39m = \u001b[32mtrue\u001b[39m"
      ]
     },
     "execution_count": 42,
     "metadata": {},
     "output_type": "execute_result"
    }
   ],
   "source": [
    "def isPalindrome[A](l: List[A]): Boolean =\n",
    "    reverse(l) == l\n",
    "\n",
    "isPalindrome(List(1, 2, 3, 2, 1))"
   ]
  },
  {
   "cell_type": "markdown",
   "metadata": {},
   "source": [
    "7\\. Flatten a nested list structure."
   ]
  },
  {
   "cell_type": "code",
   "execution_count": 43,
   "metadata": {},
   "outputs": [
    {
     "data": {
      "text/plain": [
       "defined \u001b[32mfunction\u001b[39m \u001b[36mflatten\u001b[39m\n",
       "\u001b[36mres42_1\u001b[39m: \u001b[32mList\u001b[39m[\u001b[32mAny\u001b[39m] = \u001b[33mList\u001b[39m(1, 1, 2, 3, 5, 8)"
      ]
     },
     "execution_count": 43,
     "metadata": {},
     "output_type": "execute_result"
    }
   ],
   "source": [
    "// Structural recursion\n",
    "def flatten(l: List[Any]): List[Any] = l match {\n",
    "    case x::xs => x match {\n",
    "        case y: List[Any] => flattenRec(y) ++ flattenRec(xs)\n",
    "        case _        => x +: flattenRec(xs)\n",
    "    }\n",
    "    case _ => Nil\n",
    "}\n",
    "\n",
    "flatten(List(List(1, 1), 2, List(3, List(5, 8))))"
   ]
  },
  {
   "cell_type": "markdown",
   "metadata": {},
   "source": [
    "8\\. Eliminate consecutive duplicates of list elements."
   ]
  },
  {
   "cell_type": "code",
   "execution_count": 44,
   "metadata": {},
   "outputs": [
    {
     "data": {
      "text/plain": [
       "defined \u001b[32mfunction\u001b[39m \u001b[36mcompress\u001b[39m\n",
       "defined \u001b[32mfunction\u001b[39m \u001b[36mcompressOptimized\u001b[39m\n",
       "defined \u001b[32mfunction\u001b[39m \u001b[36mcompressWithFold\u001b[39m\n",
       "\u001b[36mres43_3\u001b[39m: (\u001b[32mList\u001b[39m[\u001b[32mSymbol\u001b[39m], \u001b[32mconcurrent\u001b[39m.\u001b[32mduration\u001b[39m.\u001b[32mFiniteDuration\u001b[39m) = (\u001b[33mList\u001b[39m(\u001b[32m'a\u001b[39m, \u001b[32m'b\u001b[39m, \u001b[32m'c\u001b[39m, \u001b[32m'a\u001b[39m, \u001b[32m'd\u001b[39m, \u001b[32m'e\u001b[39m), 278016 nanoseconds)\n",
       "\u001b[36mres43_4\u001b[39m: (\u001b[32mList\u001b[39m[\u001b[32mSymbol\u001b[39m], \u001b[32mconcurrent\u001b[39m.\u001b[32mduration\u001b[39m.\u001b[32mFiniteDuration\u001b[39m) = (\u001b[33mList\u001b[39m(\u001b[32m'a\u001b[39m, \u001b[32m'b\u001b[39m, \u001b[32m'c\u001b[39m, \u001b[32m'a\u001b[39m, \u001b[32m'd\u001b[39m, \u001b[32m'e\u001b[39m), 206320 nanoseconds)\n",
       "\u001b[36mres43_5\u001b[39m: (\u001b[32mList\u001b[39m[\u001b[32mSymbol\u001b[39m], \u001b[32mconcurrent\u001b[39m.\u001b[32mduration\u001b[39m.\u001b[32mFiniteDuration\u001b[39m) = (\u001b[33mList\u001b[39m(\u001b[32m'a\u001b[39m, \u001b[32m'b\u001b[39m, \u001b[32m'c\u001b[39m, \u001b[32m'a\u001b[39m, \u001b[32m'd\u001b[39m, \u001b[32m'e\u001b[39m), 257229 nanoseconds)"
      ]
     },
     "execution_count": 44,
     "metadata": {},
     "output_type": "execute_result"
    }
   ],
   "source": [
    "// Structural Recursion\n",
    "def compress[A](l: List[A]): List[A] = l match {\n",
    "    case x::xs => x +: compress(xs.dropWhile(_ == x))\n",
    "    case _ => Nil\n",
    "}\n",
    "\n",
    "// Optimized version\n",
    "def compressOptimized[A](l: List[A]): List[A] = {\n",
    "    @annotation.tailrec\n",
    "    def inner[A](la: List[A], accum: List[A]): List[A] = la match {\n",
    "        case x::xs => inner(xs.dropWhile(_ == x), accum :+ x)\n",
    "        case _ => accum\n",
    "    }\n",
    "    inner(l, List.empty)\n",
    "} \n",
    "\n",
    "// Fold Version\n",
    "def compressWithFold[A](l: List[A]): List[A] = l.foldRight(List.empty[A]) {\n",
    "    (x, accum) => accum match {\n",
    "        case h::tail if x == h => accum\n",
    "        case _ => x +: accum\n",
    "    }\n",
    "}\n",
    "\n",
    "time { compress(List('a, 'a, 'a, 'a, 'b, 'c, 'c, 'a, 'a, 'd, 'e, 'e, 'e, 'e)) }\n",
    "time { compressOptimized(List('a, 'a, 'a, 'a, 'b, 'c, 'c, 'a, 'a, 'd, 'e, 'e, 'e, 'e)) }\n",
    "time { compressWithFold(List('a, 'a, 'a, 'a, 'b, 'c, 'c, 'a, 'a, 'd, 'e, 'e, 'e, 'e)) }"
   ]
  },
  {
   "cell_type": "markdown",
   "metadata": {},
   "source": [
    "9\\. Pack consecutive duplicates of list elements into sublists."
   ]
  },
  {
   "cell_type": "code",
   "execution_count": 45,
   "metadata": {},
   "outputs": [
    {
     "data": {
      "text/plain": [
       "defined \u001b[32mfunction\u001b[39m \u001b[36mpack\u001b[39m\n",
       "\u001b[36mres44_1\u001b[39m: \u001b[32mList\u001b[39m[\u001b[32mList\u001b[39m[\u001b[32mSymbol\u001b[39m]] = \u001b[33mList\u001b[39m(\n",
       "  \u001b[33mList\u001b[39m(\u001b[32m'a\u001b[39m, \u001b[32m'a\u001b[39m, \u001b[32m'a\u001b[39m, \u001b[32m'a\u001b[39m),\n",
       "  \u001b[33mList\u001b[39m(\u001b[32m'b\u001b[39m),\n",
       "  \u001b[33mList\u001b[39m(\u001b[32m'c\u001b[39m, \u001b[32m'c\u001b[39m),\n",
       "  \u001b[33mList\u001b[39m(\u001b[32m'a\u001b[39m, \u001b[32m'a\u001b[39m),\n",
       "  \u001b[33mList\u001b[39m(\u001b[32m'd\u001b[39m),\n",
       "  \u001b[33mList\u001b[39m(\u001b[32m'e\u001b[39m, \u001b[32m'e\u001b[39m, \u001b[32m'e\u001b[39m, \u001b[32m'e\u001b[39m)\n",
       ")"
      ]
     },
     "execution_count": 45,
     "metadata": {},
     "output_type": "execute_result"
    }
   ],
   "source": [
    "// Recursive solution\n",
    "def pack[A](l: List[A]): List[List[A]] = l match {\n",
    "    case x::xs => {\n",
    "        // Split list by predicate. Equivalent to takewhile + dropwhile\n",
    "        val (ys, zs) = l span(_ == x) \n",
    "        ys :: pack(zs)\n",
    "    }\n",
    "    case _ => Nil\n",
    "}\n",
    "\n",
    "pack(List('a, 'a, 'a, 'a, 'b, 'c, 'c, 'a, 'a, 'd, 'e, 'e, 'e, 'e))"
   ]
  }
 ],
 "metadata": {
  "kernelspec": {
   "display_name": "Scala",
   "language": "scala",
   "name": "scala"
  },
  "language_info": {
   "codemirror_mode": "text/x-scala",
   "file_extension": ".scala",
   "mimetype": "text/x-scala",
   "name": "scala211",
   "nbconvert_exporter": "script",
   "pygments_lexer": "scala",
   "version": "2.11.11"
  }
 },
 "nbformat": 4,
 "nbformat_minor": 2
}
